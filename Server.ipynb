{
 "cells": [
  {
   "cell_type": "code",
   "execution_count": 2,
   "metadata": {},
   "outputs": [],
   "source": [
    "# AF_INET refers to the address family ipv4\n",
    "# SOCK_STREAM means connection oriented TCP protocol\n",
    "from socket import AF_INET,socket,SOCK_STREAM\n",
    "from threading import Thread"
   ]
  },
  {
   "cell_type": "code",
   "execution_count": 3,
   "metadata": {},
   "outputs": [],
   "source": [
    "clients = {}\n",
    "addresses = {}\n",
    "HOST = \"\"\n",
    "Port = 33000\n",
    "BUFSIZ = 1024\n",
    "ADDR = (HOST,Port)\n",
    "SERVER = socket(AF_INET,SOCK_STREAM)\n",
    "SERVER.bind(ADDR)"
   ]
  },
  {
   "cell_type": "code",
   "execution_count": 5,
   "metadata": {},
   "outputs": [],
   "source": [
    "def accept_incoming_connections():\n",
    "    \"\"\"Sets up handling for incoming clients\"\"\"\n",
    "    while True:\n",
    "        client,client_address = SERVER.accept()\n",
    "        print(\"%s:%s has connected.\"%client_address)\n",
    "        client.send(bytes(\"Greetings from the cave!\"+\"Now type your name and enter\",\"utf8\"))\n",
    "        addresses[client]=client_address\n",
    "        Thread(target=handle_client, args=(client,)).start()"
   ]
  },
  {
   "cell_type": "code",
   "execution_count": 6,
   "metadata": {},
   "outputs": [],
   "source": [
    "def handle_client(client):#takes client socket as an arguement\n",
    "    \"\"\"Handles a single client connection\"\"\"\n",
    "    name = client.recv(BUFSIZ).decode(\"utf8\")\n",
    "    welcome = \"Welcome %s! If you ever want to quit, type {quit} to exit.\" %name\n",
    "    client.send(bytes(welcome,\"utf8\"))\n",
    "    msg = \"%s has joined the chat!\" %name\n",
    "    broadcast(bytes(msg,\"utf8\"))\n",
    "    clients[client] = name\n",
    "    while True:\n",
    "        msg = client.recv(BUFSIZ)\n",
    "        if msg != bytes(\"{quit}\",\"utf8\"):\n",
    "            broadcast(msg,name+\": \")\n",
    "        else:\n",
    "            client.send(bytes(\"{quit}\",\"utf8\"))\n",
    "            client.close()\n",
    "            del clients[client]\n",
    "            broadcast(bytes('%s had left the chat.'%name,\"utf8\"))\n",
    "            break\n",
    "        \n",
    "    "
   ]
  },
  {
   "cell_type": "code",
   "execution_count": 7,
   "metadata": {},
   "outputs": [],
   "source": [
    "def broadcast(msg,prefix=\"\"): # prefix is for name identification\n",
    "    \"\"\"Broadcasts a message to all the clients\"\"\"\n",
    "    for sock in clients:\n",
    "        sock.send(bytes(prefix, \"utf8\")+msg)"
   ]
  },
  {
   "cell_type": "code",
   "execution_count": null,
   "metadata": {},
   "outputs": [
    {
     "name": "stdout",
     "output_type": "stream",
     "text": [
      "Waiting for connection...\n"
     ]
    }
   ],
   "source": [
    "if __name__ == \"__main__\":\n",
    "    SERVER.listen(5) # Listens for 5 connections at max\n",
    "    print(\"Waiting for connection...\")\n",
    "    ACCEPT_THREAD = Thread(target=accept_incoming_connections)\n",
    "    ACCEPT_THREAD.start()\n",
    "    ACCEPT_THREAD.join()\n",
    "    SERVER.close()"
   ]
  },
  {
   "cell_type": "code",
   "execution_count": null,
   "metadata": {},
   "outputs": [],
   "source": []
  }
 ],
 "metadata": {
  "kernelspec": {
   "display_name": "Python 3",
   "language": "python",
   "name": "python3"
  },
  "language_info": {
   "codemirror_mode": {
    "name": "ipython",
    "version": 3
   },
   "file_extension": ".py",
   "mimetype": "text/x-python",
   "name": "python",
   "nbconvert_exporter": "python",
   "pygments_lexer": "ipython3",
   "version": "3.7.3"
  }
 },
 "nbformat": 4,
 "nbformat_minor": 2
}
