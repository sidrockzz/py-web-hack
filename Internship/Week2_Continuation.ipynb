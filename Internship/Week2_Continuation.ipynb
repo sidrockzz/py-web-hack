{
 "cells": [
  {
   "cell_type": "markdown",
   "metadata": {},
   "source": [
    "<h2>Dictionary</h2>"
   ]
  },
  {
   "cell_type": "markdown",
   "metadata": {},
   "source": [
    "Python dictionary is an unordered collection of items. While other compound data types have only value as an element, a dictionary has a key: value pair.\n",
    "\n",
    "Dictionaries are optimized to retrieve values when the key is known.\n",
    "\n",
    "Typically used to hold data that are related, such as the information contained in an ID or a user profile, dictionaries are constructed with curly braces on either side { }.\n",
    "\n",
    "A dictionary looks like this:\n",
    "\n",
    "sammy = {'username': 'sammy-shark', 'online': True, 'followers': 987}"
   ]
  },
  {
   "cell_type": "code",
   "execution_count": 32,
   "metadata": {},
   "outputs": [],
   "source": [
    "#Create a dictionary\n",
    "#Creating a dictionary is as simple as placing items inside curly braces {} separated by comma.\n",
    "#An item has a key and the corresponding value expressed as a pair, key: value.\n",
    "#While values can be of any data type and can repeat,\n",
    "#keys must be of immutable type (string, number or tuple with immutable elements) and must be unique.\n",
    "\n",
    "my_dict = {} # empty dictionary\n",
    "# dictionary with integer keys\n",
    "my_dict = {1: 'a', 2: 'b'}\n",
    "# dictionary with mixed keys\n",
    "my_dict = {'name': 'Harsha', 1: [2, 4, 3]}\n",
    "# using dict()\n",
    "my_dict = dict({1:'a', 2:'b'})\n",
    "# from sequence having each item as a pair\n",
    "my_dict = dict([(1,'a'), (2,'b')])"
   ]
  },
  {
   "cell_type": "code",
   "execution_count": 36,
   "metadata": {},
   "outputs": [],
   "source": [
    "my_dict = {'name': 'Harsha', 1: [2, 4, 3]}\n",
    "my_dict['MARKS'][1]=2"
   ]
  },
  {
   "cell_type": "code",
   "execution_count": 37,
   "metadata": {},
   "outputs": [
    {
     "data": {
      "text/plain": [
       "{'name': 'Harsha', 1: [2, 2, 3]}"
      ]
     },
     "execution_count": 37,
     "metadata": {},
     "output_type": "execute_result"
    }
   ],
   "source": [
    "my_dict"
   ]
  },
  {
   "cell_type": "code",
   "execution_count": 330,
   "metadata": {},
   "outputs": [
    {
     "name": "stdout",
     "output_type": "stream",
     "text": [
      "{(1, 2, 3): 'abc', 3.1415: 'abc'}\n"
     ]
    }
   ],
   "source": [
    "#U can also create dictionary with tuple as a key\n",
    "my_dict = { (1,2,3):\"abc\", 3.1415:\"abc\"}\n",
    "print(my_dict)"
   ]
  },
  {
   "cell_type": "markdown",
   "metadata": {},
   "source": [
    "<h3>Access elements from a dictionary</h3>"
   ]
  },
  {
   "cell_type": "markdown",
   "metadata": {},
   "source": [
    "<b>get() method</b><br>\n",
    "While indexing is used with other container types to access values, dictionary uses keys. Key can be used either inside square brackets or with the get() method.\n",
    "\n",
    "The difference while using get() is that it returns None instead of KeyError, if the key is not found."
   ]
  },
  {
   "cell_type": "code",
   "execution_count": 328,
   "metadata": {},
   "outputs": [
    {
     "name": "stdout",
     "output_type": "stream",
     "text": [
      "Harsha\n",
      "24\n",
      "Key Error thrown\n"
     ]
    }
   ],
   "source": [
    "my_dict = {'name':'Harsha', 'age': 24}\n",
    "\n",
    "# Output: Harsha\n",
    "print(my_dict['name'])\n",
    "\n",
    "# Output: 24\n",
    "print(my_dict.get('age'))\n",
    "\n",
    "# Trying to access keys which doesn't exist throws error\n",
    "try:\n",
    "    my_dict.get('address')\n",
    "except KeyError:\n",
    "    print('Key Error thrown')\n",
    "try:\n",
    "    my_dict['address']\n",
    "except KeyError:\n",
    "    print('Key Error thrown')\n"
   ]
  },
  {
   "cell_type": "markdown",
   "metadata": {},
   "source": [
    "<h3>Change or add elements in a dictionary</h3>"
   ]
  },
  {
   "cell_type": "markdown",
   "metadata": {},
   "source": [
    "Dictionary are mutable. We can add new items or change the value of existing items using assignment operator.\n",
    "\n",
    "If the key is already present, value gets updated, else a new key: value pair is added to the dictionary."
   ]
  },
  {
   "cell_type": "code",
   "execution_count": 331,
   "metadata": {},
   "outputs": [
    {
     "name": "stdout",
     "output_type": "stream",
     "text": [
      "{'name': 'Harsha', 'age': 26}\n",
      "{'name': 'Harsha', 'age': 26, 'address': 'CHennai'}\n"
     ]
    }
   ],
   "source": [
    "my_dict = {'name':'Harsha', 'age': 24}\n",
    "\n",
    "# update value\n",
    "my_dict['age'] = 26\n",
    "\n",
    "#{'name': 'Harsha', 'age': 26}\n",
    "print(my_dict)\n",
    "\n",
    "# add item\n",
    "my_dict['address'] = 'CHennai'  \n",
    "\n",
    "#{'name': 'Harsha', 'age': 26, 'address': 'CHennai'}\n",
    "print(my_dict)"
   ]
  },
  {
   "cell_type": "code",
   "execution_count": 333,
   "metadata": {},
   "outputs": [
    {
     "name": "stdout",
     "output_type": "stream",
     "text": [
      "{1: 'one', 2: 'two'}\n",
      "{1: 'one', 2: 'two', 3: 'three'}\n"
     ]
    }
   ],
   "source": [
    "#Using update \n",
    "#The update() method takes either a dictionary or an iterable object of key/value pairs (generally tuples).\n",
    "#If update() is called without passing parameters, the dictionary remains unchanged.\n",
    "\n",
    "d = {1: \"one\", 2: \"three\"}\n",
    "d1 = {2: \"two\"}\n",
    "\n",
    "# updates the value of key 2\n",
    "d.update(d1)\n",
    "print(d)\n",
    "\n",
    "d1 = {3: \"three\"}\n",
    "\n",
    "# adds element with key 3\n",
    "d.update(d1)\n",
    "print(d)"
   ]
  },
  {
   "cell_type": "code",
   "execution_count": 336,
   "metadata": {},
   "outputs": [
    {
     "name": "stdout",
     "output_type": "stream",
     "text": [
      "{'a': {'Perl', 'Python'}, 'b': {'C', 'C++'}, 'c': {'Python'}}\n"
     ]
    }
   ],
   "source": [
    "knowledge = {\"a\": {\"Perl\"}, \"b\":{\"C\",\"C++\"}}\n",
    "knowledge2 = {\"c\":{\"Python\"}, \"a\":{\"Perl\", \"Python\"}}\n",
    "knowledge.update(knowledge2)\n",
    "print(knowledge)"
   ]
  },
  {
   "cell_type": "markdown",
   "metadata": {},
   "source": [
    "<h3>Delete or remove elements from a dictionary</h3>"
   ]
  },
  {
   "cell_type": "markdown",
   "metadata": {},
   "source": [
    "We can remove a particular item in a dictionary by using the method pop(). This method removes as item with the provided key and returns the value.\n",
    "\n",
    "The method, popitem() can be used to remove and return an arbitrary item (key, value) form the dictionary. All the items can be removed at once using the clear() method.\n",
    "\n",
    "We can also use the del keyword to remove individual items or the entire dictionary itself."
   ]
  },
  {
   "cell_type": "code",
   "execution_count": 334,
   "metadata": {},
   "outputs": [
    {
     "name": "stdout",
     "output_type": "stream",
     "text": [
      "16\n",
      "{1: 1, 2: 4, 3: 9, 5: 25}\n",
      "(5, 25)\n",
      "{1: 1, 2: 4, 3: 9}\n"
     ]
    },
    {
     "ename": "KeyError",
     "evalue": "5",
     "output_type": "error",
     "traceback": [
      "\u001b[1;31m---------------------------------------------------------------------------\u001b[0m",
      "\u001b[1;31mKeyError\u001b[0m                                  Traceback (most recent call last)",
      "\u001b[1;32m<ipython-input-334-d3532408378d>\u001b[0m in \u001b[0;36m<module>\u001b[1;34m\u001b[0m\n\u001b[0;32m     17\u001b[0m \u001b[1;33m\u001b[0m\u001b[0m\n\u001b[0;32m     18\u001b[0m \u001b[1;31m# delete a particular item\u001b[0m\u001b[1;33m\u001b[0m\u001b[1;33m\u001b[0m\u001b[1;33m\u001b[0m\u001b[0m\n\u001b[1;32m---> 19\u001b[1;33m \u001b[1;32mdel\u001b[0m \u001b[0msquares\u001b[0m\u001b[1;33m[\u001b[0m\u001b[1;36m5\u001b[0m\u001b[1;33m]\u001b[0m\u001b[1;33m\u001b[0m\u001b[1;33m\u001b[0m\u001b[0m\n\u001b[0m\u001b[0;32m     20\u001b[0m \u001b[1;33m\u001b[0m\u001b[0m\n\u001b[0;32m     21\u001b[0m \u001b[1;31m# Output: {2: 4, 3: 9}\u001b[0m\u001b[1;33m\u001b[0m\u001b[1;33m\u001b[0m\u001b[1;33m\u001b[0m\u001b[0m\n",
      "\u001b[1;31mKeyError\u001b[0m: 5"
     ]
    }
   ],
   "source": [
    "# create a dictionary\n",
    "squares = {1:1, 2:4, 3:9, 4:16, 5:25}  \n",
    "\n",
    "# remove a particular item\n",
    "# Output: 16\n",
    "print(squares.pop(4))  \n",
    "\n",
    "# Output: {1: 1, 2: 4, 3: 9, 5: 25}\n",
    "print(squares)\n",
    "\n",
    "# remove an arbitrary item\n",
    "# Output: (1, 1)\n",
    "print(squares.popitem())\n",
    "\n",
    "# Output: {2: 4, 3: 9, 5: 25}\n",
    "print(squares)\n",
    "\n",
    "# delete a particular item\n",
    "del squares[5]  \n",
    "\n",
    "# Output: {2: 4, 3: 9}\n",
    "print(squares)\n",
    "\n",
    "# remove all items\n",
    "squares.clear()\n",
    "\n",
    "# Output: {}\n",
    "print(squares)\n",
    "\n",
    "# delete the dictionary itself\n",
    "del squares\n",
    "\n",
    "# Throws Error\n",
    "# print(squares)"
   ]
  },
  {
   "cell_type": "code",
   "execution_count": 38,
   "metadata": {},
   "outputs": [],
   "source": [
    "a=10\n",
    "a=20"
   ]
  },
  {
   "cell_type": "code",
   "execution_count": 337,
   "metadata": {},
   "outputs": [
    {
     "name": "stdout",
     "output_type": "stream",
     "text": [
      "{'Math': 0, 'English': 0, 'Science': 0}\n",
      "('Math', 0)\n",
      "('English', 0)\n",
      "('Science', 0)\n"
     ]
    },
    {
     "data": {
      "text/plain": [
       "['English', 'Math', 'Science']"
      ]
     },
     "execution_count": 337,
     "metadata": {},
     "output_type": "execute_result"
    }
   ],
   "source": [
    "#Methods in python\n",
    "marks = {}.fromkeys(['Math','English','Science'], 0)\n",
    "\n",
    "# Output: {'English': 0, 'Math': 0, 'Science': 0}\n",
    "print(marks)\n",
    "\n",
    "for item in marks.items():\n",
    "    print(item)\n",
    "\n",
    "# Output: ['English', 'Math', 'Science']\n",
    "list(sorted(marks.keys()))"
   ]
  },
  {
   "attachments": {
    "image.png": {
     "image/png": "[encoded data removed]"
    }
   },
   "cell_type": "markdown",
   "metadata": {},
   "source": [
    "![image.png](attachment:image.png)"
   ]
  },
  {
   "cell_type": "code",
   "execution_count": 339,
   "metadata": {},
   "outputs": [
    {
     "name": "stdout",
     "output_type": "stream",
     "text": [
      "{'course1': {'title': 'Python Training Course for Beginners', 'location': 'Frankfurt', 'trainer': 'Steve G. Snake'}, 'course2': {'title': 'Perl Training Course for Beginners', 'location': 'Berlin', 'trainer': 'Ella M. Charming'}, 'course3': {'title': 'Python Text Processing Course', 'location': 'München', 'trainer': 'Monica A. Snowdon'}}\n",
      "{'course1': {'title': 'Python Training Course for Beginners', 'location': 'Frankfurt', 'trainer': 'Steve G. Snake'}, 'course2': {'title': 'Perl Training Course for Beginners', 'location': 'Berlin', 'trainer': 'Ella M. Charming'}, 'course3': {'title': 'Python Text Processing Course', 'location': 'München', 'trainer': 'Monica A. Snowdon'}}\n"
     ]
    }
   ],
   "source": [
    "#Nested list with copy() function\n",
    "trainings = { \"course1\":{\"title\":\"Python Training Course for Beginners\", \n",
    "                         \"location\":\"Frankfurt\", \n",
    "                         \"trainer\":\"Steve G. Snake\"},\n",
    "              \"course2\":{\"title\":\"Intermediate Python Training\",\n",
    "                         \"location\":\"Berlin\",\n",
    "                         \"trainer\":\"Ella M. Charming\"},\n",
    "              \"course3\":{\"title\":\"Python Text Processing Course\",\n",
    "                         \"location\":\"München\",\n",
    "                         \"trainer\":\"Monica A. Snowdon\"}\n",
    "              }\n",
    "\n",
    "trainings2 = trainings.copy()\n",
    "\n",
    "trainings[\"course2\"][\"title\"] = \"Perl Training Course for Beginners\"\n",
    "print(trainings2)\n",
    "print(trainings)"
   ]
  },
  {
   "cell_type": "markdown",
   "metadata": {},
   "source": [
    "<h3>Python Dictionary Comprehension</h3>"
   ]
  },
  {
   "cell_type": "code",
   "execution_count": 340,
   "metadata": {},
   "outputs": [
    {
     "name": "stdout",
     "output_type": "stream",
     "text": [
      "{0: 0, 1: 1, 2: 4, 3: 9, 4: 16, 5: 25}\n"
     ]
    }
   ],
   "source": [
    "squares = {x: x*x for x in range(6)}\n",
    "\n",
    "# Output: {0: 0, 1: 1, 2: 4, 3: 9, 4: 16, 5: 25}\n",
    "print(squares)"
   ]
  },
  {
   "cell_type": "code",
   "execution_count": null,
   "metadata": {},
   "outputs": [],
   "source": [
    "#Above is equivalent to\n",
    "squares = {}\n",
    "for x in range(6):\n",
    "   squares[x] = x*x"
   ]
  },
  {
   "cell_type": "code",
   "execution_count": 341,
   "metadata": {},
   "outputs": [
    {
     "name": "stdout",
     "output_type": "stream",
     "text": [
      "{1: 1, 3: 9, 5: 25, 7: 49, 9: 81}\n"
     ]
    }
   ],
   "source": [
    "#Example 2\n",
    "odd_squares = {x: x*x for x in range(11) if x%2 == 1}\n",
    "\n",
    "# Output: {1: 1, 3: 9, 5: 25, 7: 49, 9: 81}\n",
    "print(odd_squares)"
   ]
  },
  {
   "cell_type": "code",
   "execution_count": 342,
   "metadata": {},
   "outputs": [
    {
     "name": "stdout",
     "output_type": "stream",
     "text": [
      "True\n",
      "True\n",
      "False\n"
     ]
    }
   ],
   "source": [
    "#Search key in dictionary\n",
    "squares = {1: 1, 3: 9, 5: 25, 7: 49, 9: 81}\n",
    "\n",
    "# Output: True\n",
    "print(1 in squares)\n",
    "\n",
    "# Output: True\n",
    "print(2 not in squares)\n",
    "\n",
    "# membership tests for key only not value\n",
    "# Output: False\n",
    "print(49 in squares)"
   ]
  },
  {
   "cell_type": "code",
   "execution_count": 349,
   "metadata": {},
   "outputs": [
    {
     "name": "stdout",
     "output_type": "stream",
     "text": [
      "1\n",
      "9\n",
      "25\n",
      "49\n",
      "81\n",
      "Iterate through values\n",
      "1\n",
      "9\n",
      "25\n",
      "49\n",
      "81\n",
      "Iterate through keys\n",
      "1\n",
      "3\n",
      "5\n",
      "7\n",
      "9\n"
     ]
    }
   ],
   "source": [
    "#Iterating Through a Dictionary\n",
    "squares = {1: 1, 3: 9, 5: 25, 7: 49, 9: 81}\n",
    "for i in squares:\n",
    "    print(squares[i])\n",
    "\n",
    "#Iterating through values\n",
    "print('Iterate through values')\n",
    "for value in squares.values():\n",
    "    print(value)\n",
    "    \n",
    "#Iterating through keys\n",
    "print('Iterate through keys')\n",
    "for key in squares.keys():\n",
    "    print(key)"
   ]
  },
  {
   "attachments": {
    "image.png": {
     "image/png": "[encoded data removed]"
    }
   },
   "cell_type": "markdown",
   "metadata": {},
   "source": [
    "![image.png](attachment:image.png)"
   ]
  },
  {
   "cell_type": "code",
   "execution_count": 344,
   "metadata": {},
   "outputs": [
    {
     "name": "stdout",
     "output_type": "stream",
     "text": [
      "5\n",
      "[1, 3, 5, 7, 9]\n"
     ]
    }
   ],
   "source": [
    "squares = {1: 1, 3: 9, 5: 25, 7: 49, 9: 81}\n",
    "\n",
    "# Output: 5\n",
    "print(len(squares))\n",
    "\n",
    "# Output: [1, 3, 5, 7, 9]\n",
    "print(sorted(squares))"
   ]
  },
  {
   "cell_type": "markdown",
   "metadata": {},
   "source": [
    "<h2>Creating a Tuple</h2>\n",
    "\n",
    "A tuple is created by placing all the items (elements) inside parentheses (), separated by commas. The parentheses are optional, however, it is a good practice to use them.\n",
    "\n",
    "A tuple can have any number of items and they may be of different types (integer, float, list, string, etc.)."
   ]
  },
  {
   "cell_type": "code",
   "execution_count": 8,
   "metadata": {},
   "outputs": [
    {
     "name": "stdout",
     "output_type": "stream",
     "text": [
      "()\n",
      "(1, 2, 3)\n",
      "(1, 'Hello', 3.4)\n",
      "('mouse', [8, 4, 6], (1, 2, 3))\n"
     ]
    }
   ],
   "source": [
    "# Empty tuple\n",
    "my_tuple = ()\n",
    "print(my_tuple)  # Output: ()\n",
    "\n",
    "# Tuple having integers\n",
    "my_tuple = (1, 2, 3)\n",
    "print(my_tuple)  # Output: (1, 2, 3) \n",
    "\n",
    "# tuple with mixed datatypes\n",
    "my_tuple = (1, \"Hello\", 3.4)\n",
    "print(my_tuple)  # Output: (1, \"Hello\", 3.4)  \n",
    "\n",
    "# nested tuple\n",
    "my_tuple = (\"mouse\", [8, 4, 6], (1, 2, 3))\n",
    "\n",
    "# Output: (\"mouse\", [8, 4, 6], (1, 2, 3)) \n",
    "print(my_tuple)"
   ]
  },
  {
   "cell_type": "code",
   "execution_count": 9,
   "metadata": {},
   "outputs": [
    {
     "name": "stdout",
     "output_type": "stream",
     "text": [
      "(3, 4.6, 'dog')\n",
      "3\n",
      "4.6\n",
      "dog\n"
     ]
    }
   ],
   "source": [
    "#A tuple can also be created without using parentheses. This is known as tuple packing.\n",
    "my_tuple = 3, 4.6, \"dog\"\n",
    "print(my_tuple)   # Output: 3, 4.6, \"dog\" \n",
    "\n",
    "# tuple unpacking is also possible\n",
    "a, b, c = my_tuple\n",
    "\n",
    "print(a)      # 3\n",
    "print(b)      # 4.6 \n",
    "print(c)      # dog "
   ]
  },
  {
   "cell_type": "code",
   "execution_count": 10,
   "metadata": {},
   "outputs": [
    {
     "name": "stdout",
     "output_type": "stream",
     "text": [
      "<class 'str'>\n",
      "<class 'tuple'>\n",
      "<class 'tuple'>\n"
     ]
    }
   ],
   "source": [
    "#Creating a tuple with one element is a bit tricky.\n",
    "\n",
    "#Having one element within parentheses is not enough. We will need a trailing comma to indicate that it is, in fact, a tuple.\n",
    "my_tuple = (\"hello\")\n",
    "print(type(my_tuple))  # <class 'str'>\n",
    "\n",
    "# Creating a tuple having one element\n",
    "my_tuple = (\"hello\",)  \n",
    "print(type(my_tuple))  # <class 'tuple'> \n",
    "\n",
    "# Parentheses is optional\n",
    "my_tuple = \"hello\",\n",
    "print(type(my_tuple))  # <class 'tuple'> "
   ]
  },
  {
   "cell_type": "markdown",
   "metadata": {},
   "source": [
    "Access Tuple Elements:\n",
    "\n",
    "There are various ways in which we can access the elements of a tuple.\n",
    "\n",
    "1. Indexing\n",
    "\n",
    "We can use the index operator [] to access an item in a tuple where the index starts from 0.\n",
    "\n",
    "So, a tuple having 6 elements will have indices from 0 to 5. Trying to access an element outside of tuple (for example, 6, 7,...) will raise an IndexError.\n",
    "\n",
    "The index must be an integer; so we cannot use float or other types. This will result in TypeError.\n",
    "\n",
    "Likewise, nested tuples are accessed using nested indexing, as shown in the example below."
   ]
  },
  {
   "cell_type": "code",
   "execution_count": 11,
   "metadata": {},
   "outputs": [
    {
     "name": "stdout",
     "output_type": "stream",
     "text": [
      "p\n",
      "t\n",
      "s\n",
      "4\n"
     ]
    }
   ],
   "source": [
    "my_tuple = ('p','e','r','m','i','t')\n",
    "\n",
    "print(my_tuple[0])   # 'p' \n",
    "print(my_tuple[5])   # 't'\n",
    "\n",
    "# IndexError: list index out of range\n",
    "# print(my_tuple[6])\n",
    "\n",
    "# Index must be an integer\n",
    "# TypeError: list indices must be integers, not float\n",
    "# my_tuple[2.0]\n",
    "\n",
    "# nested tuple\n",
    "n_tuple = (\"mouse\", [8, 4, 6], (1, 2, 3))\n",
    "\n",
    "# nested index\n",
    "print(n_tuple[0][3])       # 's'\n",
    "print(n_tuple[1][1])       # 4"
   ]
  },
  {
   "cell_type": "code",
   "execution_count": 12,
   "metadata": {},
   "outputs": [
    {
     "name": "stdout",
     "output_type": "stream",
     "text": [
      "t\n",
      "p\n"
     ]
    }
   ],
   "source": [
    "#2. Negative Indexing\n",
    "# Python allows negative indexing for its sequences.\n",
    "\n",
    "# The index of -1 refers to the last item, -2 to the second last item and so on.\n",
    "my_tuple = ('p','e','r','m','i','t')\n",
    "\n",
    "# Output: 't'\n",
    "print(my_tuple[-1])\n",
    "\n",
    "# Output: 'p'\n",
    "print(my_tuple[-6])"
   ]
  },
  {
   "cell_type": "code",
   "execution_count": 19,
   "metadata": {},
   "outputs": [
    {
     "name": "stdout",
     "output_type": "stream",
     "text": [
      "('e', 'r', 'z')\n",
      "('v', 'e')\n",
      "('1', '3')\n",
      "('v', 'e', 'r', 'z', 'e', 'o', 'b', '1', '3')\n"
     ]
    }
   ],
   "source": [
    "#We can access a range of items in a tuple by using the slicing operator - colon \":\".\n",
    "my_tuple = ('v','e','r','z','e','o','b','1','3')\n",
    "\n",
    "# elements 2nd to 4th\n",
    "# Output: ('r', 'o', 'g')\n",
    "print(my_tuple[1:4])\n",
    "\n",
    "# elements beginning to 2nd\n",
    "# Output: ('p', 'r')\n",
    "print(my_tuple[:-7])\n",
    "\n",
    "# elements 8th to end\n",
    "# Output: ('i', 'z')\n",
    "print(my_tuple[7:])\n",
    "\n",
    "# elements beginning to end\n",
    "# Output: ('v','e','r','z','e','o','b','1','3')\n",
    "print(my_tuple[:])"
   ]
  },
  {
   "cell_type": "code",
   "execution_count": 30,
   "metadata": {},
   "outputs": [
    {
     "ename": "TypeError",
     "evalue": "'tuple' object does not support item assignment",
     "output_type": "error",
     "traceback": [
      "\u001b[1;31m---------------------------------------------------------------------------\u001b[0m",
      "\u001b[1;31mTypeError\u001b[0m                                 Traceback (most recent call last)",
      "\u001b[1;32m<ipython-input-30-23e76a78293d>\u001b[0m in \u001b[0;36m<module>\u001b[1;34m\u001b[0m\n\u001b[0;32m      8\u001b[0m \u001b[0mmy_tuple\u001b[0m \u001b[1;33m=\u001b[0m \u001b[1;33m(\u001b[0m\u001b[1;36m4\u001b[0m\u001b[1;33m,\u001b[0m \u001b[1;36m2\u001b[0m\u001b[1;33m,\u001b[0m \u001b[1;36m3\u001b[0m\u001b[1;33m,\u001b[0m \u001b[1;33m[\u001b[0m\u001b[1;36m6\u001b[0m\u001b[1;33m,\u001b[0m \u001b[1;36m5\u001b[0m\u001b[1;33m]\u001b[0m\u001b[1;33m)\u001b[0m\u001b[1;33m\u001b[0m\u001b[1;33m\u001b[0m\u001b[0m\n\u001b[0;32m      9\u001b[0m \u001b[1;33m\u001b[0m\u001b[0m\n\u001b[1;32m---> 10\u001b[1;33m \u001b[0mmy_tuple\u001b[0m\u001b[1;33m[\u001b[0m\u001b[1;36m0\u001b[0m\u001b[1;33m]\u001b[0m\u001b[1;33m=\u001b[0m\u001b[1;36m5\u001b[0m\u001b[1;33m\u001b[0m\u001b[1;33m\u001b[0m\u001b[0m\n\u001b[0m\u001b[0;32m     11\u001b[0m \u001b[1;31m# TypeError: 'tuple' object does not support item assignment\u001b[0m\u001b[1;33m\u001b[0m\u001b[1;33m\u001b[0m\u001b[1;33m\u001b[0m\u001b[0m\n\u001b[0;32m     12\u001b[0m \u001b[1;31m# my_tuple[1] = 9\u001b[0m\u001b[1;33m\u001b[0m\u001b[1;33m\u001b[0m\u001b[1;33m\u001b[0m\u001b[0m\n",
      "\u001b[1;31mTypeError\u001b[0m: 'tuple' object does not support item assignment"
     ]
    }
   ],
   "source": [
    "# Changing a Tuple\n",
    "# Unlike lists, tuples are immutable.\n",
    "\n",
    "# This means that elements of a tuple cannot be changed once it has been assigned. But, if the element is itself a mutable datatype like list, its nested items can be changed.\n",
    "\n",
    "# We can also assign a tuple to different values (reassignment).\n",
    "\n",
    "my_tuple = (4, 2, 3, [6, 5])\n",
    "\n",
    "my_tuple[0]=5\n",
    "# TypeError: 'tuple' object does not support item assignment\n",
    "# my_tuple[1] = 9\n",
    "\n",
    "# However, item of mutable element can be changed\n",
    "my_tuple[3][0] = 9    # Output: (4, 2, 3, [9, 5])\n",
    "print(my_tuple)\n",
    "\n",
    "# Tuples can be reassigned\n",
    "my_tuple = ('v','e','r','z','e','o','b','1','3')\n",
    "\n",
    "# Output: ('v','e','r','z','e','o','b','1','3')\n",
    "print(my_tuple)"
   ]
  },
  {
   "cell_type": "code",
   "execution_count": 15,
   "metadata": {},
   "outputs": [
    {
     "name": "stdout",
     "output_type": "stream",
     "text": [
      "(1, 2, 3, 4, 5, 6)\n",
      "('Repeat', 'Repeat', 'Repeat')\n"
     ]
    }
   ],
   "source": [
    "# We can use + operator to combine two tuples. This is also called concatenation.\n",
    "\n",
    "# We can also repeat the elements in a tuple for a given number of times using the * operator.\n",
    "\n",
    "# Both + and * operations result in a new tuple.\n",
    "\n",
    "# Concatenation\n",
    "# Output: (1, 2, 3, 4, 5, 6)\n",
    "print((1, 2, 3) + (4, 5, 6))\n",
    "\n",
    "# Repeat\n",
    "# Output: ('Repeat', 'Repeat', 'Repeat')\n",
    "print((\"Repeat\",) * 3)"
   ]
  },
  {
   "cell_type": "code",
   "execution_count": 18,
   "metadata": {},
   "outputs": [
    {
     "ename": "NameError",
     "evalue": "name 'my_tuple' is not defined",
     "output_type": "error",
     "traceback": [
      "\u001b[1;31m---------------------------------------------------------------------------\u001b[0m",
      "\u001b[1;31mNameError\u001b[0m                                 Traceback (most recent call last)",
      "\u001b[1;32m<ipython-input-18-afa0a50ee21e>\u001b[0m in \u001b[0;36m<module>\u001b[1;34m\u001b[0m\n\u001b[0;32m     14\u001b[0m \u001b[1;33m\u001b[0m\u001b[0m\n\u001b[0;32m     15\u001b[0m \u001b[1;31m# NameError: name 'my_tuple' is not defined\u001b[0m\u001b[1;33m\u001b[0m\u001b[1;33m\u001b[0m\u001b[1;33m\u001b[0m\u001b[0m\n\u001b[1;32m---> 16\u001b[1;33m \u001b[0mprint\u001b[0m\u001b[1;33m(\u001b[0m\u001b[0mmy_tuple\u001b[0m\u001b[1;33m)\u001b[0m\u001b[1;33m\u001b[0m\u001b[1;33m\u001b[0m\u001b[0m\n\u001b[0m",
      "\u001b[1;31mNameError\u001b[0m: name 'my_tuple' is not defined"
     ]
    }
   ],
   "source": [
    "# Deleting a Tuple\n",
    "# As discussed above, we cannot change the elements in a tuple. That also means we cannot delete or remove items from a tuple.\n",
    "\n",
    "# But deleting a tuple entirely is possible using the keyword del.\n",
    "\n",
    "my_tuple = ('v','e','r','z','e','o','b','1','3')\n",
    "\n",
    "# can't delete items\n",
    "# TypeError: 'tuple' object doesn't support item deletion\n",
    "# del my_tuple[3]\n",
    "\n",
    "# Can delete an entire tuple\n",
    "del my_tuple\n",
    "\n",
    "# NameError: name 'my_tuple' is not defined\n",
    "print(my_tuple)"
   ]
  },
  {
   "cell_type": "code",
   "execution_count": 20,
   "metadata": {},
   "outputs": [
    {
     "name": "stdout",
     "output_type": "stream",
     "text": [
      "2\n",
      "3\n"
     ]
    }
   ],
   "source": [
    "#methods\n",
    "my_tuple = ('a','p','p','l','e',)\n",
    "\n",
    "print(my_tuple.count('p'))  # Output: 2\n",
    "print(my_tuple.index('l'))  # Output: 3"
   ]
  },
  {
   "cell_type": "code",
   "execution_count": 21,
   "metadata": {},
   "outputs": [
    {
     "name": "stdout",
     "output_type": "stream",
     "text": [
      "Hello John\n",
      "Hello Kate\n"
     ]
    }
   ],
   "source": [
    "#Iterating Through a Tuple\n",
    "# Output: \n",
    "# Hello John\n",
    "# Hello Kate\n",
    "for name in ('John','Kate'):\n",
    "     print(\"Hello\",name) "
   ]
  },
  {
   "cell_type": "markdown",
   "metadata": {},
   "source": [
    "Advantages of Tuple over List:\n",
    "    \n",
    "Since tuples are quite similar to lists, both of them are used in similar situations as well.\n",
    "\n",
    "However, there are certain advantages of implementing a tuple over a list. Below listed are some of the main advantages:\n",
    "\n",
    "We generally use tuple for heterogeneous (different) datatypes and list for homogeneous (similar) datatypes.\n",
    "\n",
    "Since tuples are immutable, iterating through tuple is faster than with list. So there is a slight performance boost.\n",
    "\n",
    "Tuples that contain immutable elements can be used as a key for a dictionary. With lists, this is not possible.\n",
    "\n",
    "If you have data that doesn't change, implementing it as tuple will guarantee that it remains write-protected."
   ]
  },
  {
   "cell_type": "markdown",
   "metadata": {},
   "source": [
    "<h2>Python class init</h2>"
   ]
  },
  {
   "cell_type": "markdown",
   "metadata": {},
   "source": [
    "Whenever a beginner starts learning the Python programming language, they come across something like __init__ which usually they don’t fully understand."
   ]
  },
  {
   "cell_type": "code",
   "execution_count": 7,
   "metadata": {},
   "outputs": [
    {
     "name": "stdout",
     "output_type": "stream",
     "text": [
      "Init called.\n"
     ]
    },
    {
     "data": {
      "text/plain": [
       "'Harsha'"
      ]
     },
     "execution_count": 7,
     "metadata": {},
     "output_type": "execute_result"
    }
   ],
   "source": [
    "# Understanding python class init function\n",
    "# Let’s see a short code snippet and see what we’re trying to understand\n",
    "class Student(object):\n",
    "\n",
    "    def __init__(self, name):\n",
    "        print(\"Init called.\")\n",
    "        self.name = name\n",
    "\n",
    "    def method(self):\n",
    "        return self.name \n",
    "\n",
    "my_object = Student('Harsha')\n",
    "my_object.method()"
   ]
  },
  {
   "cell_type": "markdown",
   "metadata": {},
   "source": [
    "<b>What does the python init method do?</b>\n",
    "\n",
    "When a new instance of a python class is created, it is the __init__ method which is called and proves to be a very good place where we can modify the object after it has been created.\n",
    "\n",
    "This means that when we create a new instance of the class like:"
   ]
  },
  {
   "cell_type": "code",
   "execution_count": 2,
   "metadata": {},
   "outputs": [
    {
     "name": "stdout",
     "output_type": "stream",
     "text": [
      "Init called.\n"
     ]
    }
   ],
   "source": [
    "my_object = Student('Harsha')"
   ]
  },
  {
   "cell_type": "markdown",
   "metadata": {},
   "source": [
    "<b>Is __init__ the constructor?</b>\n",
    "\n",
    "Actually yes. __init__ is an oop construct. __init__ is the constructor for a class. Just like mentioned above, the __init__ method is called as soon as the memory for the object is allocated. Let’s see what we did above in our snippet:"
   ]
  },
  {
   "cell_type": "code",
   "execution_count": 3,
   "metadata": {},
   "outputs": [],
   "source": [
    "def __init__(self, something):\n",
    "    self.something = something"
   ]
  },
  {
   "cell_type": "code",
   "execution_count": 4,
   "metadata": {},
   "outputs": [],
   "source": [
    "#Using self is important because if you don’t and implement your method like:\n",
    "def __init__(self, something):\n",
    "    _something = something\n",
    "#The something parameter would be stored in variables on the stack and would be discarded as soon as the __init__ method goes out of scope.\n"
   ]
  },
  {
   "cell_type": "markdown",
   "metadata": {},
   "source": [
    "<b>How __init__ works with Inheritance?</b>"
   ]
  },
  {
   "cell_type": "code",
   "execution_count": 9,
   "metadata": {},
   "outputs": [
    {
     "name": "stdout",
     "output_type": "stream",
     "text": [
      "User Init called.\n",
      "Student Init called.\n"
     ]
    },
    {
     "data": {
      "text/plain": [
       "'Harsha'"
      ]
     },
     "execution_count": 9,
     "metadata": {},
     "output_type": "execute_result"
    }
   ],
   "source": [
    "#When we have a class inheriting from a superclass, __init__ method works the same way. \n",
    "#Let us try to demonstrate what happens when we try to initialise a child class:\n",
    "class User(object):\n",
    "    def __init__(self, something):\n",
    "        print(\"User Init called.\")\n",
    "        self.something = something\n",
    "\n",
    "    def method(self):\n",
    "        return self.something \n",
    "\n",
    "class Student(User):\n",
    "    def __init__(self, something):\n",
    "        User.__init__(self, something)\n",
    "        print(\"Student Init called.\")\n",
    "        self.something = something\n",
    "\n",
    "    def method(self):\n",
    "        return self.something \n",
    "\n",
    "my_object = Student('Harsha')\n",
    "my_object.method()"
   ]
  },
  {
   "cell_type": "code",
   "execution_count": null,
   "metadata": {},
   "outputs": [],
   "source": [
    "#n above code, when we initialised the Student object, this will be the output which is created when we ran the above program:\n",
    "#So, before the child class, the parent’s class init was called. You can control this by modifying the order in which the init is called for a parent or a child class.\n",
    "#To summarise, python __init__ is what is called as a constructor in other OOPs languages such as C++ and Java. \n",
    "#The basic idea behind this is, it a special method which is automatically called when an object of that Class is created."
   ]
  },
  {
   "cell_type": "code",
   "execution_count": null,
   "metadata": {},
   "outputs": [],
   "source": []
  },
  {
   "cell_type": "markdown",
   "metadata": {},
   "source": [
    "<h2>Functions and Function Parameters</h2>"
   ]
  },
  {
   "cell_type": "markdown",
   "metadata": {},
   "source": [
    "<b>What is a function in Python?</b>\n",
    "\n",
    "In Python, function is a group of related statements that perform a specific task.<br>\n",
    "\n",
    "Functions help break our program into smaller and modular chunks. As our program grows larger and larger, functions make it more organized and manageable.<br>\n",
    "\n",
    "Furthermore, it avoids repetition and makes code reusable."
   ]
  },
  {
   "cell_type": "code",
   "execution_count": 12,
   "metadata": {},
   "outputs": [
    {
     "name": "stdout",
     "output_type": "stream",
     "text": [
      "haihai\n"
     ]
    },
    {
     "data": {
      "text/plain": [
       "'hai'"
      ]
     },
     "execution_count": 12,
     "metadata": {},
     "output_type": "execute_result"
    }
   ],
   "source": [
    "input('hai')"
   ]
  },
  {
   "cell_type": "code",
   "execution_count": 100,
   "metadata": {},
   "outputs": [],
   "source": [
    "#Syntax\n",
    "def function_name(parameters):\n",
    "    \"\"\"docstring\"\"\"\n",
    "    statement(s)"
   ]
  },
  {
   "cell_type": "code",
   "execution_count": 14,
   "metadata": {},
   "outputs": [],
   "source": [
    "def greet(name):\n",
    "    \"\"\"This function greets to\n",
    "    the person passed in as\n",
    "    parameter\"\"\"\n",
    "    print(\"Hello, \" + name + \". Good Evening!\")"
   ]
  },
  {
   "cell_type": "code",
   "execution_count": 15,
   "metadata": {},
   "outputs": [
    {
     "name": "stdout",
     "output_type": "stream",
     "text": [
      "Hello, Harsha. Good Evening!\n"
     ]
    }
   ],
   "source": [
    "greet('Harsha')"
   ]
  },
  {
   "cell_type": "markdown",
   "metadata": {},
   "source": [
    "<b>Rules to write an function</b>\n",
    "<br>\n",
    "1.Keyword def marks the start of function header.<br>\n",
    "\n",
    "2.A function name to uniquely identify it. Function naming follows the same rules of writing identifiers in Python.<br>\n",
    "\n",
    "3.Parameters (arguments) through which we pass values to a function. They are optional.<br>\n",
    "\n",
    "4.A colon (:) to mark the end of function header.<br>\n",
    "\n",
    "5.Optional documentation string (docstring) to describe what the function does.<br>\n",
    "\n",
    "6.One or more valid python statements that make up the function body. Statements must have same indentation level (usually 4 spaces).<br>\n",
    "\n",
    "7.An optional return statement to return a value from the function."
   ]
  },
  {
   "cell_type": "code",
   "execution_count": 103,
   "metadata": {},
   "outputs": [
    {
     "name": "stdout",
     "output_type": "stream",
     "text": [
      "Hello, Students. Good Evening!\n"
     ]
    }
   ],
   "source": [
    "greet('Students')"
   ]
  },
  {
   "cell_type": "markdown",
   "metadata": {},
   "source": [
    "<b>Docstring</b><br>\n",
    "\n",
    "1.The first string after the function header is called the docstring and is short for documentation string. It is used to explain in brief, what a function does.<br>\n",
    "\n",
    "2.Although optional, documentation is a good programming practice. Unless you can remember what you had for dinner last week, always document your code.<br>\n",
    "\n",
    "3.In the above example, we have a docstring immediately below the function header. We generally use triple quotes so that docstring can extend up to multiple lines. This string is available to us as __doc__ attribute of the function.<br>"
   ]
  },
  {
   "cell_type": "code",
   "execution_count": 16,
   "metadata": {},
   "outputs": [
    {
     "name": "stdout",
     "output_type": "stream",
     "text": [
      "This function greets to\n",
      "    the person passed in as\n",
      "    parameter\n"
     ]
    }
   ],
   "source": [
    "print(greet.__doc__)"
   ]
  },
  {
   "cell_type": "markdown",
   "metadata": {},
   "source": [
    "<b>Note : The return statement is used to exit a function and go back to the place from where it was called.</b>"
   ]
  },
  {
   "cell_type": "code",
   "execution_count": null,
   "metadata": {},
   "outputs": [],
   "source": [
    "# Syntax for return\n",
    "return [expression_list]"
   ]
  },
  {
   "cell_type": "markdown",
   "metadata": {},
   "source": [
    "<b>Note:This statement can contain expression which gets evaluated and the value is returned. If there is no expression in the statement or the return statement itself is not present inside a function, then the function will return the None object.</b>"
   ]
  },
  {
   "cell_type": "code",
   "execution_count": 105,
   "metadata": {},
   "outputs": [
    {
     "name": "stdout",
     "output_type": "stream",
     "text": [
      "Hello, May. Good Evening!\n",
      "None\n"
     ]
    }
   ],
   "source": [
    "print(greet(\"May\"))"
   ]
  },
  {
   "cell_type": "code",
   "execution_count": 17,
   "metadata": {},
   "outputs": [
    {
     "name": "stdout",
     "output_type": "stream",
     "text": [
      "2\n",
      "4\n"
     ]
    }
   ],
   "source": [
    "def absolute_value(num):\n",
    "    \"\"\"This function returns the absolute\n",
    "    value of the entered number\"\"\"\n",
    "\n",
    "    if num >= 0:\n",
    "        return num\n",
    "    else:\n",
    "        return -num\n",
    "\n",
    "# Output: 2\n",
    "print(absolute_value(2))\n",
    "\n",
    "# Output: 4\n",
    "print(absolute_value(-4))"
   ]
  },
  {
   "cell_type": "markdown",
   "metadata": {},
   "source": [
    "<b>Types of functions:</b><br>\n",
    "\n",
    "1.Built in Functions :Functions that are built into Python.<br>\n",
    "2.User defined functions : Functions defined by the users themselves."
   ]
  },
  {
   "attachments": {
    "image.png": {
     "image/png": "[encoded data removed]"
    }
   },
   "cell_type": "markdown",
   "metadata": {},
   "source": [
    "![image.png](attachment:image.png)"
   ]
  },
  {
   "cell_type": "markdown",
   "metadata": {},
   "source": [
    "<b>For the list of python built in functions with example :: https://docs.python.org/3/library/functions.html</b>"
   ]
  },
  {
   "cell_type": "markdown",
   "metadata": {},
   "source": [
    "<b>What are user-defined functions in Python?</b>\n",
    "\n",
    "1.Functions that we define ourselves to do certain specific task are referred as user-defined functions. The way in which we define and call functions in Python are already discussed.<br>\n",
    "\n",
    "2.Functions that readily come with Python are called built-in functions. If we use functions written by others in the form of library, it can be termed as library functions.<br>\n",
    "\n",
    "3.All the other functions that we write on our own fall under user-defined functions. So, our user-defined function could be a library function to someone else.<br>\n",
    "\n",
    "<b>Advantages of user-defined functions</b><br>\n",
    "\n",
    "1.User-defined functions help to decompose a large program into small segments which makes program easy to understand, maintain and debug.<br>\n",
    "\n",
    "2.If repeated code occurs in a program. Function can be used to include those codes and execute when needed by calling that function.<br>\n",
    "\n",
    "3.Programmars working on large project can divide the workload by making different functions."
   ]
  },
  {
   "cell_type": "code",
   "execution_count": 108,
   "metadata": {},
   "outputs": [
    {
     "name": "stdout",
     "output_type": "stream",
     "text": [
      "The sum is 11\n"
     ]
    }
   ],
   "source": [
    "# Program to illustrate\n",
    "# the use of user-defined functions\n",
    "\n",
    "def add_numbers(x,y):\n",
    "   sum = x + y\n",
    "   return sum\n",
    "\n",
    "num1 = 5\n",
    "num2 = 6\n",
    "\n",
    "print(\"The sum is\", add_numbers(num1, num2))"
   ]
  },
  {
   "cell_type": "markdown",
   "metadata": {},
   "source": [
    "<h2>Python Function Arguments</h2>"
   ]
  },
  {
   "cell_type": "code",
   "execution_count": 29,
   "metadata": {},
   "outputs": [],
   "source": [
    "#Example\n",
    "def greet(name,msg,group):\n",
    "   \"\"\"This function greets to\n",
    "   the person with the provided message\"\"\"\n",
    "   print(\"Hello\",name + ', ' + msg+'welcome '+group)\n",
    "\n",
    "#greet(\"Students\",\"Good Evening!\")"
   ]
  },
  {
   "cell_type": "markdown",
   "metadata": {},
   "source": [
    "<b>Here, the function greet() has two parameters.</b>"
   ]
  },
  {
   "cell_type": "code",
   "execution_count": 20,
   "metadata": {},
   "outputs": [
    {
     "ename": "TypeError",
     "evalue": "greet() missing 1 required positional argument: 'msg'",
     "output_type": "error",
     "traceback": [
      "\u001b[1;31m---------------------------------------------------------------------------\u001b[0m",
      "\u001b[1;31mTypeError\u001b[0m                                 Traceback (most recent call last)",
      "\u001b[1;32m<ipython-input-20-bcd033e1ff9d>\u001b[0m in \u001b[0;36m<module>\u001b[1;34m\u001b[0m\n\u001b[1;32m----> 1\u001b[1;33m \u001b[0mgreet\u001b[0m\u001b[1;33m(\u001b[0m\u001b[1;34m\"Students\"\u001b[0m\u001b[1;33m)\u001b[0m\u001b[1;33m\u001b[0m\u001b[1;33m\u001b[0m\u001b[0m\n\u001b[0m",
      "\u001b[1;31mTypeError\u001b[0m: greet() missing 1 required positional argument: 'msg'"
     ]
    }
   ],
   "source": [
    "greet(\"Students\")"
   ]
  },
  {
   "cell_type": "code",
   "execution_count": 21,
   "metadata": {},
   "outputs": [
    {
     "ename": "TypeError",
     "evalue": "greet() missing 2 required positional arguments: 'name' and 'msg'",
     "output_type": "error",
     "traceback": [
      "\u001b[1;31m---------------------------------------------------------------------------\u001b[0m",
      "\u001b[1;31mTypeError\u001b[0m                                 Traceback (most recent call last)",
      "\u001b[1;32m<ipython-input-21-db845682bfe7>\u001b[0m in \u001b[0;36m<module>\u001b[1;34m\u001b[0m\n\u001b[1;32m----> 1\u001b[1;33m \u001b[0mgreet\u001b[0m\u001b[1;33m(\u001b[0m\u001b[1;33m)\u001b[0m\u001b[1;33m\u001b[0m\u001b[1;33m\u001b[0m\u001b[0m\n\u001b[0m",
      "\u001b[1;31mTypeError\u001b[0m: greet() missing 2 required positional arguments: 'name' and 'msg'"
     ]
    }
   ],
   "source": [
    "greet()"
   ]
  },
  {
   "cell_type": "markdown",
   "metadata": {},
   "source": [
    "<h2>Python Keyword Arguments</h2>"
   ]
  },
  {
   "cell_type": "markdown",
   "metadata": {},
   "source": [
    "<b>When we call a function with some values, these values get assigned to the arguments according to their position.</b>"
   ]
  },
  {
   "cell_type": "code",
   "execution_count": 34,
   "metadata": {},
   "outputs": [
    {
     "name": "stdout",
     "output_type": "stream",
     "text": [
      "Hello Students, How do you do?welcome Batch1\n",
      "Hello Students, How do you do?welcome Batch1\n",
      "Hello Students, How do you do?welcome Batch1\n",
      "None\n"
     ]
    }
   ],
   "source": [
    "# 2 keyword arguments\n",
    "greet(name = \"Students\",msg = \"How do you do?\",group='Batch1')\n",
    "\n",
    "# 2 keyword arguments (out of order)\n",
    "greet(\"Students\",group = \"Batch1\",msg = \"How do you do?\")\n",
    "\n",
    "# 1 positional, 1 keyword argument\n",
    "print(greet(\"Students\",msg = \"How do you do?\",group=\"Batch1\") )"
   ]
  },
  {
   "cell_type": "markdown",
   "metadata": {},
   "source": [
    "<b>Note: we must keep in mind that keyword arguments must follow positional arguments.</b>"
   ]
  },
  {
   "cell_type": "code",
   "execution_count": 35,
   "metadata": {},
   "outputs": [
    {
     "ename": "SyntaxError",
     "evalue": "positional argument follows keyword argument (<ipython-input-35-7a8e463b9b1e>, line 1)",
     "output_type": "error",
     "traceback": [
      "\u001b[1;36m  File \u001b[1;32m\"<ipython-input-35-7a8e463b9b1e>\"\u001b[1;36m, line \u001b[1;32m1\u001b[0m\n\u001b[1;33m    greet(name=\"Students\",\"How do you do?\")\u001b[0m\n\u001b[1;37m                         ^\u001b[0m\n\u001b[1;31mSyntaxError\u001b[0m\u001b[1;31m:\u001b[0m positional argument follows keyword argument\n"
     ]
    }
   ],
   "source": [
    "greet(name=\"Students\",\"How do you do?\")"
   ]
  },
  {
   "cell_type": "markdown",
   "metadata": {},
   "source": [
    "<h2>Python Default Arguments</h2>"
   ]
  },
  {
   "cell_type": "code",
   "execution_count": 36,
   "metadata": {},
   "outputs": [
    {
     "name": "stdout",
     "output_type": "stream",
     "text": [
      "Hello Students, Good Evening!\n",
      "Hello Bruce, How do you do?\n"
     ]
    }
   ],
   "source": [
    "def greet(name, msg = \"Good Evening!\"):\n",
    "   \"\"\"\n",
    "   This function greets to\n",
    "   the person with the\n",
    "   provided message.\n",
    "\n",
    "   If message is not provided,\n",
    "   it defaults to \"Good\n",
    "   morning!\"\n",
    "   \"\"\"\n",
    "\n",
    "   print(\"Hello\",name + ', ' + msg)\n",
    "\n",
    "greet(\"Students\")\n",
    "greet(\"Bruce\",\"How do you do?\")"
   ]
  },
  {
   "cell_type": "markdown",
   "metadata": {},
   "source": [
    "<h2>Python Arbitrary Arguments</h2>"
   ]
  },
  {
   "cell_type": "markdown",
   "metadata": {},
   "source": [
    "<b>Sometimes, we do not know in advance the number of arguments that will be passed into a function.Python allows us to handle this kind of situation through function calls with arbitrary number of arguments.</b>"
   ]
  },
  {
   "cell_type": "markdown",
   "metadata": {},
   "source": [
    "<b>In the function definition we use an asterisk (*) before the parameter name to denote this kind of argument. Here is an example.</b>"
   ]
  },
  {
   "cell_type": "code",
   "execution_count": 118,
   "metadata": {},
   "outputs": [
    {
     "name": "stdout",
     "output_type": "stream",
     "text": [
      "Hello Harsha\n",
      "Hello Jai\n",
      "Hello Siva\n",
      "Hello Aravind\n"
     ]
    }
   ],
   "source": [
    "def greet(*names):\n",
    "   \"\"\"This function greets all\n",
    "   the person in the names tuple.\"\"\"\n",
    "\n",
    "   # names is a tuple with arguments\n",
    "   for name in names:\n",
    "       print(\"Hello\",name)\n",
    "\n",
    "greet(\"Harsha\",\"Jai\",\"Siva\",\"Aravind\")"
   ]
  },
  {
   "cell_type": "markdown",
   "metadata": {},
   "source": [
    "<h2>Python Recursion</h2>"
   ]
  },
  {
   "cell_type": "markdown",
   "metadata": {},
   "source": [
    "<b>Recursion is the process of defining something in terms of itself.</b>"
   ]
  },
  {
   "cell_type": "markdown",
   "metadata": {},
   "source": [
    "Note: We know that in Python, a function can call other functions. It is even possible for the function to call itself. These type of construct are termed as recursive functions."
   ]
  },
  {
   "cell_type": "code",
   "execution_count": 119,
   "metadata": {},
   "outputs": [
    {
     "name": "stdout",
     "output_type": "stream",
     "text": [
      "The factorial of 4 is 24\n"
     ]
    }
   ],
   "source": [
    "# An example of a recursive function to\n",
    "# find the factorial of a number\n",
    "\n",
    "def calc_factorial(x):\n",
    "    \"\"\"This is a recursive function\n",
    "    to find the factorial of an integer\"\"\"\n",
    "\n",
    "    if x == 1:\n",
    "        return 1\n",
    "    else:\n",
    "        return (x * calc_factorial(x-1))\n",
    "\n",
    "num = 4\n",
    "print(\"The factorial of\", num, \"is\", calc_factorial(num))"
   ]
  },
  {
   "cell_type": "markdown",
   "metadata": {},
   "source": [
    "calc_factorial(4)              # 1st call with 4\n",
    "4 * calc_factorial(3)          # 2nd call with 3\n",
    "4 * 3 * calc_factorial(2)      # 3rd call with 2\n",
    "4 * 3 * 2 * calc_factorial(1)  # 4th call with 1\n",
    "4 * 3 * 2 * 1                  # return from 4th call as number=1\n",
    "4 * 3 * 2                      # return from 3rd call\n",
    "4 * 6                          # return from 2nd call\n",
    "24                             # return from 1st call"
   ]
  },
  {
   "cell_type": "markdown",
   "metadata": {},
   "source": [
    "<b>Advantages of Recursion</b><br>\n",
    "\n",
    "Recursive functions make the code look clean and elegant.\n",
    "<br>\n",
    "\n",
    "A complex task can be broken down into simpler sub-problems using recursion.\n",
    "<br>\n",
    "\n",
    "Sequence generation is easier with recursion than using some nested iteration."
   ]
  },
  {
   "cell_type": "markdown",
   "metadata": {},
   "source": [
    "<b>Disadvantages of Recursion</b><br>\n",
    "\n",
    "Sometimes the logic behind recursion is hard to follow through.\n",
    "<br>\n",
    "\n",
    "Recursive calls are expensive (inefficient) as they take up a lot of memory and time.\n",
    "<br>\n",
    "\n",
    "Recursive functions are hard to debug."
   ]
  },
  {
   "cell_type": "markdown",
   "metadata": {},
   "source": [
    "<h2>Python Anonymous/Lambda Function</h2>"
   ]
  },
  {
   "cell_type": "markdown",
   "metadata": {},
   "source": [
    "In Python, anonymous function is a function that is defined without a name.\n",
    "\n",
    "While normal functions are defined using the def keyword, in Python anonymous functions are defined using the lambda keyword.\n",
    "\n",
    "Hence, anonymous functions are also called lambda functions."
   ]
  },
  {
   "cell_type": "code",
   "execution_count": 121,
   "metadata": {},
   "outputs": [
    {
     "data": {
      "text/plain": [
       "<function __main__.<lambda>(arguments)>"
      ]
     },
     "execution_count": 121,
     "metadata": {},
     "output_type": "execute_result"
    }
   ],
   "source": [
    "#Syntax:\n",
    "\n",
    "lambda arguments: expression"
   ]
  },
  {
   "cell_type": "markdown",
   "metadata": {},
   "source": [
    "Note: Lambda functions can have any number of arguments but only one expression. The expression is evaluated and returned. Lambda functions can be used wherever function objects are required."
   ]
  },
  {
   "cell_type": "code",
   "execution_count": 170,
   "metadata": {},
   "outputs": [
    {
     "name": "stdout",
     "output_type": "stream",
     "text": [
      "10\n"
     ]
    }
   ],
   "source": [
    "# Program to show the use of lambda functions\n",
    "\n",
    "double = lambda x: x * 2\n",
    "\n",
    "# Output: 10\n",
    "print(double(5))\n",
    "\n",
    "#above is eqivalent to below code\n",
    "\n",
    "# def double(x):\n",
    "#    return x * 2"
   ]
  },
  {
   "cell_type": "markdown",
   "metadata": {},
   "source": [
    "<b>Use of Lambda Function in python</b><br>\n",
    "\n",
    "We use lambda functions when we require a nameless function for a short period of time.<br>\n",
    "\n",
    "In Python, we generally use it as an argument to a higher-order function (a function that takes in other functions as arguments). Lambda functions are used along with built-in functions like filter(), map() etc."
   ]
  },
  {
   "cell_type": "markdown",
   "metadata": {},
   "source": [
    "<h2>Filter</h2>"
   ]
  },
  {
   "cell_type": "markdown",
   "metadata": {},
   "source": [
    "<b>The filter() function in Python takes in a function and a list as arguments.</b><br>\n",
    "\n",
    "<b>The function is called with all the items in the list and a new list is returned which contains items for which the function evaluats to True.</b><br>\n",
    "\n",
    "<b>An example use of filter() function to filter out only even numbers from a list.</b><br>"
   ]
  },
  {
   "cell_type": "code",
   "execution_count": 123,
   "metadata": {},
   "outputs": [
    {
     "name": "stdout",
     "output_type": "stream",
     "text": [
      "[4, 6, 8, 12]\n"
     ]
    }
   ],
   "source": [
    "# Program to filter out only the even items from a list\n",
    "\n",
    "my_list = [1, 5, 4, 6, 8, 11, 3, 12]\n",
    "\n",
    "new_list = list(filter(lambda x: (x%2 == 0) , my_list))\n",
    "\n",
    "# Output: [4, 6, 8, 12]\n",
    "print(new_list)"
   ]
  },
  {
   "cell_type": "markdown",
   "metadata": {},
   "source": [
    "<h2>map</h2>"
   ]
  },
  {
   "cell_type": "markdown",
   "metadata": {},
   "source": [
    "<b>The map() function in Python takes in a function and a list.</b><br>\n",
    "\n",
    "<b>The function is called with all the items in the list and a new list is returned which contains items returned by that function for each item.</b><br>\n",
    "\n",
    "<b>Here is an example use of map() function to double all the items in a list.</b><br>"
   ]
  },
  {
   "cell_type": "code",
   "execution_count": 37,
   "metadata": {},
   "outputs": [
    {
     "name": "stdout",
     "output_type": "stream",
     "text": [
      "[1, 25, 16, 36, 64, 121, 9, 144]\n"
     ]
    }
   ],
   "source": [
    "# Program to double each item in a list using map()\n",
    "\n",
    "my_list = [1, 5, 4, 6, 8, 11, 3, 12]\n",
    "\n",
    "new_list = list(map(lambda x: x ** 2 , my_list))\n",
    "\n",
    "# Output: [2, 10, 8, 12, 16, 22, 6, 24]\n",
    "print(new_list)"
   ]
  },
  {
   "cell_type": "code",
   "execution_count": null,
   "metadata": {},
   "outputs": [],
   "source": [
    "<h2>Functions and Function Parameters</h2>\n",
    "\n",
    "<b>What is a function in Python?</b>\n",
    "\n",
    "In Python, function is a group of related statements that perform a specific task.<br>\n",
    "\n",
    "Functions help break our program into smaller and modular chunks. As our program grows larger and larger, functions make it more organized and manageable.<br>\n",
    "\n",
    "Furthermore, it avoids repetition and makes code reusable.\n",
    "\n",
    "input('hai')\n",
    "\n",
    "#Syntax\n",
    "def function_name(parameters):\n",
    "    \"\"\"docstring\"\"\"\n",
    "    statement(s)\n",
    "\n",
    "def greet(name):\n",
    "    \"\"\"This function greets to\n",
    "    the person passed in as\n",
    "    parameter\"\"\"\n",
    "    print(\"Hello, \" + name + \". Good Evening!\")\n",
    "\n",
    "greet('Harsha')\n",
    "\n",
    "<b>Rules to write an function</b>\n",
    "<br>\n",
    "1.Keyword def marks the start of function header.<br>\n",
    "\n",
    "2.A function name to uniquely identify it. Function naming follows the same rules of writing identifiers in Python.<br>\n",
    "\n",
    "3.Parameters (arguments) through which we pass values to a function. They are optional.<br>\n",
    "\n",
    "4.A colon (:) to mark the end of function header.<br>\n",
    "\n",
    "5.Optional documentation string (docstring) to describe what the function does.<br>\n",
    "\n",
    "6.One or more valid python statements that make up the function body. Statements must have same indentation level (usually 4 spaces).<br>\n",
    "\n",
    "7.An optional return statement to return a value from the function.\n",
    "\n",
    "greet('Students')\n",
    "\n",
    "<b>Docstring</b><br>\n",
    "\n",
    "1.The first string after the function header is called the docstring and is short for documentation string. It is used to explain in brief, what a function does.<br>\n",
    "\n",
    "2.Although optional, documentation is a good programming practice. Unless you can remember what you had for dinner last week, always document your code.<br>\n",
    "\n",
    "3.In the above example, we have a docstring immediately below the function header. We generally use triple quotes so that docstring can extend up to multiple lines. This string is available to us as __doc__ attribute of the function.<br>\n",
    "\n",
    "print(greet.__doc__)\n",
    "\n",
    "<b>Note : The return statement is used to exit a function and go back to the place from where it was called.</b>\n",
    "\n",
    "# Syntax for return\n",
    "return [expression_list]\n",
    "\n",
    "<b>Note:This statement can contain expression which gets evaluated and the value is returned. If there is no expression in the statement or the return statement itself is not present inside a function, then the function will return the None object.</b>\n",
    "\n",
    "print(greet(\"May\"))\n",
    "\n",
    "def absolute_value(num):\n",
    "    \"\"\"This function returns the absolute\n",
    "    value of the entered number\"\"\"\n",
    "\n",
    "    if num >= 0:\n",
    "        return num\n",
    "    else:\n",
    "        return -num\n",
    "\n",
    "# Output: 2\n",
    "print(absolute_value(2))\n",
    "\n",
    "# Output: 4\n",
    "print(absolute_value(-4))\n",
    "\n",
    "<b>Types of functions:</b><br>\n",
    "\n",
    "1.Built in Functions :Functions that are built into Python.<br>\n",
    "2.User defined functions : Functions defined by the users themselves.\n",
    "\n",
    "![image.png](attachment:image.png)\n",
    "\n",
    "<b>For the list of python built in functions with example :: https://docs.python.org/3/library/functions.html</b>\n",
    "\n",
    "<b>What are user-defined functions in Python?</b>\n",
    "\n",
    "1.Functions that we define ourselves to do certain specific task are referred as user-defined functions. The way in which we define and call functions in Python are already discussed.<br>\n",
    "\n",
    "2.Functions that readily come with Python are called built-in functions. If we use functions written by others in the form of library, it can be termed as library functions.<br>\n",
    "\n",
    "3.All the other functions that we write on our own fall under user-defined functions. So, our user-defined function could be a library function to someone else.<br>\n",
    "\n",
    "<b>Advantages of user-defined functions</b><br>\n",
    "\n",
    "1.User-defined functions help to decompose a large program into small segments which makes program easy to understand, maintain and debug.<br>\n",
    "\n",
    "2.If repeated code occurs in a program. Function can be used to include those codes and execute when needed by calling that function.<br>\n",
    "\n",
    "3.Programmars working on large project can divide the workload by making different functions.\n",
    "\n",
    "# Program to illustrate\n",
    "# the use of user-defined functions\n",
    "\n",
    "def add_numbers(x,y):\n",
    "   sum = x + y\n",
    "   return sum\n",
    "\n",
    "num1 = 5\n",
    "num2 = 6\n",
    "\n",
    "print(\"The sum is\", add_numbers(num1, num2))\n",
    "\n",
    "<h2>Python Function Arguments</h2>\n",
    "\n",
    "#Example\n",
    "def greet(name,msg,group):\n",
    "   \"\"\"This function greets to\n",
    "   the person with the provided message\"\"\"\n",
    "   print(\"Hello\",name + ', ' + msg+'welcome '+group)\n",
    "\n",
    "#greet(\"Students\",\"Good Evening!\")\n",
    "\n",
    "<b>Here, the function greet() has two parameters.</b>\n",
    "\n",
    "greet(\"Students\")\n",
    "\n",
    "greet()\n",
    "\n",
    "<h2>Python Keyword Arguments</h2>\n",
    "\n",
    "<b>When we call a function with some values, these values get assigned to the arguments according to their position.</b>\n",
    "\n",
    "# 2 keyword arguments\n",
    "greet(name = \"Students\",msg = \"How do you do?\",group='Batch1')\n",
    "\n",
    "# 2 keyword arguments (out of order)\n",
    "greet(\"Students\",group = \"Batch1\",msg = \"How do you do?\")\n",
    "\n",
    "# 1 positional, 1 keyword argument\n",
    "print(greet(\"Students\",msg = \"How do you do?\",group=\"Batch1\") )\n",
    "\n",
    "<b>Note: we must keep in mind that keyword arguments must follow positional arguments.</b>\n",
    "\n",
    "greet(name=\"Students\",\"How do you do?\")\n",
    "\n",
    "<h2>Python Default Arguments</h2>\n",
    "\n",
    "def greet(name, msg = \"Good Evening!\"):\n",
    "   \"\"\"\n",
    "   This function greets to\n",
    "   the person with the\n",
    "   provided message.\n",
    "\n",
    "   If message is not provided,\n",
    "   it defaults to \"Good\n",
    "   morning!\"\n",
    "   \"\"\"\n",
    "\n",
    "   print(\"Hello\",name + ', ' + msg)\n",
    "\n",
    "greet(\"Students\")\n",
    "greet(\"Bruce\",\"How do you do?\")\n",
    "\n",
    "<h2>Python Arbitrary Arguments</h2>\n",
    "\n",
    "<b>Sometimes, we do not know in advance the number of arguments that will be passed into a function.Python allows us to handle this kind of situation through function calls with arbitrary number of arguments.</b>\n",
    "\n",
    "<b>In the function definition we use an asterisk (*) before the parameter name to denote this kind of argument. Here is an example.</b>\n",
    "\n",
    "def greet(*names):\n",
    "   \"\"\"This function greets all\n",
    "   the person in the names tuple.\"\"\"\n",
    "\n",
    "   # names is a tuple with arguments\n",
    "   for name in names:\n",
    "       print(\"Hello\",name)\n",
    "\n",
    "greet(\"Harsha\",\"Jai\",\"Siva\",\"Aravind\")\n",
    "\n",
    "<h2>Python Recursion</h2>\n",
    "\n",
    "<b>Recursion is the process of defining something in terms of itself.</b>\n",
    "\n",
    "Note: We know that in Python, a function can call other functions. It is even possible for the function to call itself. These type of construct are termed as recursive functions.\n",
    "\n",
    "# An example of a recursive function to\n",
    "# find the factorial of a number\n",
    "\n",
    "def calc_factorial(x):\n",
    "    \"\"\"This is a recursive function\n",
    "    to find the factorial of an integer\"\"\"\n",
    "\n",
    "    if x == 1:\n",
    "        return 1\n",
    "    else:\n",
    "        return (x * calc_factorial(x-1))\n",
    "\n",
    "num = 4\n",
    "print(\"The factorial of\", num, \"is\", calc_factorial(num))\n",
    "\n",
    "calc_factorial(4)              # 1st call with 4\n",
    "4 * calc_factorial(3)          # 2nd call with 3\n",
    "4 * 3 * calc_factorial(2)      # 3rd call with 2\n",
    "4 * 3 * 2 * calc_factorial(1)  # 4th call with 1\n",
    "4 * 3 * 2 * 1                  # return from 4th call as number=1\n",
    "4 * 3 * 2                      # return from 3rd call\n",
    "4 * 6                          # return from 2nd call\n",
    "24                             # return from 1st call\n",
    "\n",
    "<b>Advantages of Recursion</b><br>\n",
    "\n",
    "Recursive functions make the code look clean and elegant.\n",
    "<br>\n",
    "\n",
    "A complex task can be broken down into simpler sub-problems using recursion.\n",
    "<br>\n",
    "\n",
    "Sequence generation is easier with recursion than using some nested iteration.\n",
    "\n",
    "<b>Disadvantages of Recursion</b><br>\n",
    "\n",
    "Sometimes the logic behind recursion is hard to follow through.\n",
    "<br>\n",
    "\n",
    "Recursive calls are expensive (inefficient) as they take up a lot of memory and time.\n",
    "<br>\n",
    "\n",
    "Recursive functions are hard to debug.\n",
    "\n",
    "<h2>Python Anonymous/Lambda Function</h2>\n",
    "\n",
    "In Python, anonymous function is a function that is defined without a name.\n",
    "\n",
    "While normal functions are defined using the def keyword, in Python anonymous functions are defined using the lambda keyword.\n",
    "\n",
    "Hence, anonymous functions are also called lambda functions.\n",
    "\n",
    "#Syntax:\n",
    "\n",
    "lambda arguments: expression\n",
    "\n",
    "Note: Lambda functions can have any number of arguments but only one expression. The expression is evaluated and returned. Lambda functions can be used wherever function objects are required.\n",
    "\n",
    "# Program to show the use of lambda functions\n",
    "\n",
    "double = lambda x: x * 2\n",
    "\n",
    "# Output: 10\n",
    "print(double(5))\n",
    "\n",
    "#above is eqivalent to below code\n",
    "\n",
    "# def double(x):\n",
    "#    return x * 2\n",
    "\n",
    "<b>Use of Lambda Function in python</b><br>\n",
    "\n",
    "We use lambda functions when we require a nameless function for a short period of time.<br>\n",
    "\n",
    "In Python, we generally use it as an argument to a higher-order function (a function that takes in other functions as arguments). Lambda functions are used along with built-in functions like filter(), map() etc.\n",
    "\n",
    "<h2>Filter</h2>\n",
    "\n",
    "<b>The filter() function in Python takes in a function and a list as arguments.</b><br>\n",
    "\n",
    "<b>The function is called with all the items in the list and a new list is returned which contains items for which the function evaluats to True.</b><br>\n",
    "\n",
    "<b>An example use of filter() function to filter out only even numbers from a list.</b><br>\n",
    "\n",
    "# Program to filter out only the even items from a list\n",
    "\n",
    "my_list = [1, 5, 4, 6, 8, 11, 3, 12]\n",
    "\n",
    "new_list = list(filter(lambda x: (x%2 == 0) , my_list))\n",
    "\n",
    "# Output: [4, 6, 8, 12]\n",
    "print(new_list)\n",
    "\n",
    "<h2>map</h2>\n",
    "\n",
    "<b>The map() function in Python takes in a function and a list.</b><br>\n",
    "\n",
    "<b>The function is called with all the items in the list and a new list is returned which contains items returned by that function for each item.</b><br>\n",
    "\n",
    "<b>Here is an example use of map() function to double all the items in a list.</b><br>\n",
    "\n",
    "# Program to double each item in a list using map()\n",
    "\n",
    "my_list = [1, 5, 4, 6, 8, 11, 3, 12]\n",
    "\n",
    "new_list = list(map(lambda x: x ** 2 , my_list))\n",
    "\n",
    "# Output: [2, 10, 8, 12, 16, 22, 6, 24]\n",
    "print(new_list)"
   ]
  },
  {
   "cell_type": "markdown",
   "metadata": {},
   "source": [
    "<h2>Packages and Modules with PIP</h2>"
   ]
  },
  {
   "cell_type": "markdown",
   "metadata": {},
   "source": [
    "<h3>Python Modules</h3>"
   ]
  },
  {
   "cell_type": "markdown",
   "metadata": {},
   "source": [
    "Modules refer to a file containing Python statements and definitions.\n",
    "\n",
    "A file containing Python code, for e.g.: example.py, is called a module and its module name would be example.\n",
    "\n",
    "We use modules to break down large programs into small manageable and organized files. Furthermore, modules provide reusability of code.\n",
    "\n",
    "We can define our most used functions in a module and import it, instead of copying their definitions into different programs."
   ]
  },
  {
   "cell_type": "code",
   "execution_count": 141,
   "metadata": {},
   "outputs": [],
   "source": [
    "# Python Module example\n",
    "def add(a, b):\n",
    "   \"\"\"This program adds two\n",
    "   numbers and return the result\"\"\"\n",
    "   result = a + b\n",
    "   return result"
   ]
  },
  {
   "cell_type": "markdown",
   "metadata": {},
   "source": [
    "1.Created a file called example.py in the current folder with above definition\n",
    "2.Now we can import this moudle into our python notebook"
   ]
  },
  {
   "cell_type": "code",
   "execution_count": 143,
   "metadata": {},
   "outputs": [
    {
     "data": {
      "text/plain": [
       "9.5"
      ]
     },
     "execution_count": 143,
     "metadata": {},
     "output_type": "execute_result"
    }
   ],
   "source": [
    "import example\n",
    "example.add(4,5.5)"
   ]
  },
  {
   "cell_type": "markdown",
   "metadata": {},
   "source": [
    "1.Python has 100's of standard modules available.U can import it in the same way."
   ]
  },
  {
   "cell_type": "markdown",
   "metadata": {},
   "source": [
    "<h3>Ways to import python module</h3>"
   ]
  },
  {
   "cell_type": "code",
   "execution_count": 39,
   "metadata": {},
   "outputs": [
    {
     "name": "stdout",
     "output_type": "stream",
     "text": [
      "The value of pi is 3.141592653589793\n",
      "The value of pi is 3.141592653589793\n",
      "The value of pi is 3.141592653589793\n",
      "The value of pi is 3.141592653589793\n"
     ]
    }
   ],
   "source": [
    "# import statement example\n",
    "# to import standard module math\n",
    "\n",
    "import math\n",
    "print(\"The value of pi is\", math.pi)\n",
    "\n",
    "# Import with renaming\n",
    "import math as m\n",
    "print(\"The value of pi is\", m.pi)\n",
    "\n",
    "#Python from...import statement\n",
    "from math import pi\n",
    "print(\"The value of pi is\", pi)\n",
    "\n",
    "#Import all names\n",
    "from math import *\n",
    "print(\"The value of pi is\", pi)"
   ]
  },
  {
   "cell_type": "markdown",
   "metadata": {},
   "source": [
    "<h3>The dir() built-in function</h3>"
   ]
  },
  {
   "cell_type": "markdown",
   "metadata": {},
   "source": [
    "We can use the dir() function to find out names that are defined inside a module"
   ]
  },
  {
   "cell_type": "code",
   "execution_count": 40,
   "metadata": {},
   "outputs": [
    {
     "data": {
      "text/plain": [
       "['__doc__',\n",
       " '__loader__',\n",
       " '__name__',\n",
       " '__package__',\n",
       " '__spec__',\n",
       " 'acos',\n",
       " 'acosh',\n",
       " 'asin',\n",
       " 'asinh',\n",
       " 'atan',\n",
       " 'atan2',\n",
       " 'atanh',\n",
       " 'ceil',\n",
       " 'copysign',\n",
       " 'cos',\n",
       " 'cosh',\n",
       " 'degrees',\n",
       " 'e',\n",
       " 'erf',\n",
       " 'erfc',\n",
       " 'exp',\n",
       " 'expm1',\n",
       " 'fabs',\n",
       " 'factorial',\n",
       " 'floor',\n",
       " 'fmod',\n",
       " 'frexp',\n",
       " 'fsum',\n",
       " 'gamma',\n",
       " 'gcd',\n",
       " 'hypot',\n",
       " 'inf',\n",
       " 'isclose',\n",
       " 'isfinite',\n",
       " 'isinf',\n",
       " 'isnan',\n",
       " 'ldexp',\n",
       " 'lgamma',\n",
       " 'log',\n",
       " 'log10',\n",
       " 'log1p',\n",
       " 'log2',\n",
       " 'modf',\n",
       " 'nan',\n",
       " 'pi',\n",
       " 'pow',\n",
       " 'radians',\n",
       " 'remainder',\n",
       " 'sin',\n",
       " 'sinh',\n",
       " 'sqrt',\n",
       " 'tan',\n",
       " 'tanh',\n",
       " 'tau',\n",
       " 'trunc']"
      ]
     },
     "execution_count": 40,
     "metadata": {},
     "output_type": "execute_result"
    }
   ],
   "source": [
    "dir(math)"
   ]
  },
  {
   "cell_type": "code",
   "execution_count": 146,
   "metadata": {},
   "outputs": [
    {
     "data": {
      "text/plain": [
       "'math'"
      ]
     },
     "execution_count": 146,
     "metadata": {},
     "output_type": "execute_result"
    }
   ],
   "source": [
    "import math\n",
    "math.__name__"
   ]
  },
  {
   "cell_type": "code",
   "execution_count": 147,
   "metadata": {},
   "outputs": [
    {
     "data": {
      "text/plain": [
       "['In',\n",
       " 'Out',\n",
       " 'X',\n",
       " '_',\n",
       " '_121',\n",
       " '_143',\n",
       " '_145',\n",
       " '_146',\n",
       " '_28',\n",
       " '_29',\n",
       " '_30',\n",
       " '_32',\n",
       " '_33',\n",
       " '_40',\n",
       " '_41',\n",
       " '_42',\n",
       " '_43',\n",
       " '_44',\n",
       " '_45',\n",
       " '_48',\n",
       " '_49',\n",
       " '_50',\n",
       " '_51',\n",
       " '_52',\n",
       " '_53',\n",
       " '_55',\n",
       " '_74',\n",
       " '_93',\n",
       " '__',\n",
       " '___',\n",
       " '__builtin__',\n",
       " '__builtins__',\n",
       " '__doc__',\n",
       " '__loader__',\n",
       " '__name__',\n",
       " '__package__',\n",
       " '__spec__',\n",
       " '_dh',\n",
       " '_i',\n",
       " '_i1',\n",
       " '_i10',\n",
       " '_i100',\n",
       " '_i101',\n",
       " '_i102',\n",
       " '_i103',\n",
       " '_i104',\n",
       " '_i105',\n",
       " '_i106',\n",
       " '_i107',\n",
       " '_i108',\n",
       " '_i109',\n",
       " '_i11',\n",
       " '_i110',\n",
       " '_i111',\n",
       " '_i112',\n",
       " '_i113',\n",
       " '_i114',\n",
       " '_i115',\n",
       " '_i116',\n",
       " '_i117',\n",
       " '_i118',\n",
       " '_i119',\n",
       " '_i12',\n",
       " '_i120',\n",
       " '_i121',\n",
       " '_i122',\n",
       " '_i123',\n",
       " '_i124',\n",
       " '_i125',\n",
       " '_i126',\n",
       " '_i127',\n",
       " '_i128',\n",
       " '_i129',\n",
       " '_i13',\n",
       " '_i130',\n",
       " '_i131',\n",
       " '_i132',\n",
       " '_i133',\n",
       " '_i134',\n",
       " '_i135',\n",
       " '_i136',\n",
       " '_i137',\n",
       " '_i138',\n",
       " '_i139',\n",
       " '_i14',\n",
       " '_i140',\n",
       " '_i141',\n",
       " '_i142',\n",
       " '_i143',\n",
       " '_i144',\n",
       " '_i145',\n",
       " '_i146',\n",
       " '_i147',\n",
       " '_i15',\n",
       " '_i16',\n",
       " '_i17',\n",
       " '_i18',\n",
       " '_i19',\n",
       " '_i2',\n",
       " '_i20',\n",
       " '_i21',\n",
       " '_i22',\n",
       " '_i23',\n",
       " '_i24',\n",
       " '_i25',\n",
       " '_i26',\n",
       " '_i27',\n",
       " '_i28',\n",
       " '_i29',\n",
       " '_i3',\n",
       " '_i30',\n",
       " '_i31',\n",
       " '_i32',\n",
       " '_i33',\n",
       " '_i34',\n",
       " '_i35',\n",
       " '_i36',\n",
       " '_i37',\n",
       " '_i38',\n",
       " '_i39',\n",
       " '_i4',\n",
       " '_i40',\n",
       " '_i41',\n",
       " '_i42',\n",
       " '_i43',\n",
       " '_i44',\n",
       " '_i45',\n",
       " '_i46',\n",
       " '_i47',\n",
       " '_i48',\n",
       " '_i49',\n",
       " '_i5',\n",
       " '_i50',\n",
       " '_i51',\n",
       " '_i52',\n",
       " '_i53',\n",
       " '_i54',\n",
       " '_i55',\n",
       " '_i56',\n",
       " '_i57',\n",
       " '_i58',\n",
       " '_i59',\n",
       " '_i6',\n",
       " '_i60',\n",
       " '_i61',\n",
       " '_i62',\n",
       " '_i63',\n",
       " '_i64',\n",
       " '_i65',\n",
       " '_i66',\n",
       " '_i67',\n",
       " '_i68',\n",
       " '_i69',\n",
       " '_i7',\n",
       " '_i70',\n",
       " '_i71',\n",
       " '_i72',\n",
       " '_i73',\n",
       " '_i74',\n",
       " '_i75',\n",
       " '_i76',\n",
       " '_i77',\n",
       " '_i78',\n",
       " '_i79',\n",
       " '_i8',\n",
       " '_i80',\n",
       " '_i81',\n",
       " '_i82',\n",
       " '_i83',\n",
       " '_i84',\n",
       " '_i85',\n",
       " '_i86',\n",
       " '_i87',\n",
       " '_i88',\n",
       " '_i89',\n",
       " '_i9',\n",
       " '_i90',\n",
       " '_i91',\n",
       " '_i92',\n",
       " '_i93',\n",
       " '_i94',\n",
       " '_i95',\n",
       " '_i96',\n",
       " '_i97',\n",
       " '_i98',\n",
       " '_i99',\n",
       " '_ih',\n",
       " '_ii',\n",
       " '_iii',\n",
       " '_oh',\n",
       " 'a',\n",
       " 'absolute_value',\n",
       " 'acos',\n",
       " 'acosh',\n",
       " 'add',\n",
       " 'add_numbers',\n",
       " 'asin',\n",
       " 'asinh',\n",
       " 'atan',\n",
       " 'atan2',\n",
       " 'atanh',\n",
       " 'b',\n",
       " 'bin_search',\n",
       " 'c',\n",
       " 'calc_factorial',\n",
       " 'ceil',\n",
       " 'copysign',\n",
       " 'cos',\n",
       " 'cosh',\n",
       " 'count',\n",
       " 'counter',\n",
       " 'default_order',\n",
       " 'degrees',\n",
       " 'digits',\n",
       " 'double',\n",
       " 'e',\n",
       " 'erf',\n",
       " 'erfc',\n",
       " 'example',\n",
       " 'exit',\n",
       " 'exp',\n",
       " 'expm1',\n",
       " 'fabs',\n",
       " 'factorial',\n",
       " 'floor',\n",
       " 'fmod',\n",
       " 'foo',\n",
       " 'frexp',\n",
       " 'fsum',\n",
       " 'function',\n",
       " 'function_name',\n",
       " 'gamma',\n",
       " 'gcd',\n",
       " 'genre',\n",
       " 'get_ipython',\n",
       " 'greet',\n",
       " 'hypot',\n",
       " 'i',\n",
       " 'inf',\n",
       " 'isclose',\n",
       " 'isfinite',\n",
       " 'isinf',\n",
       " 'isnan',\n",
       " 'j',\n",
       " 'k',\n",
       " 'keyword_order',\n",
       " 'ldexp',\n",
       " 'letter',\n",
       " 'lgamma',\n",
       " 'li',\n",
       " 'log',\n",
       " 'log10',\n",
       " 'log1p',\n",
       " 'log2',\n",
       " 'm',\n",
       " 'math',\n",
       " 'menu',\n",
       " 'modf',\n",
       " 'my_list',\n",
       " 'my_string',\n",
       " 'n',\n",
       " 'nan',\n",
       " 'new_list',\n",
       " 'num',\n",
       " 'num1',\n",
       " 'num2',\n",
       " 'numbers',\n",
       " 'objects',\n",
       " 'option',\n",
       " 'outer',\n",
       " 'pi',\n",
       " 'positional_order',\n",
       " 'pow',\n",
       " 'quit',\n",
       " 'radians',\n",
       " 'random',\n",
       " 'remainder',\n",
       " 's',\n",
       " 'sentence',\n",
       " 'sequence',\n",
       " 'sin',\n",
       " 'sinh',\n",
       " 'sqrt',\n",
       " 'str',\n",
       " 'str1',\n",
       " 'str2',\n",
       " 'subjects',\n",
       " 'sum',\n",
       " 'tan',\n",
       " 'tanh',\n",
       " 'tau',\n",
       " 'trunc',\n",
       " 'v',\n",
       " 'val',\n",
       " 'verbs',\n",
       " 'vowels',\n",
       " 'x',\n",
       " 'y',\n",
       " 'z']"
      ]
     },
     "execution_count": 147,
     "metadata": {},
     "output_type": "execute_result"
    }
   ],
   "source": [
    "dir()"
   ]
  },
  {
   "cell_type": "code",
   "execution_count": 148,
   "metadata": {},
   "outputs": [
    {
     "data": {
      "text/plain": [
       "['D:\\\\Data_Science\\\\Batch1_Lessons',\n",
       " 'C:\\\\Users\\\\LENOVO\\\\Anaconda3\\\\python37.zip',\n",
       " 'C:\\\\Users\\\\LENOVO\\\\Anaconda3\\\\DLLs',\n",
       " 'C:\\\\Users\\\\LENOVO\\\\Anaconda3\\\\lib',\n",
       " 'C:\\\\Users\\\\LENOVO\\\\Anaconda3',\n",
       " '',\n",
       " 'C:\\\\Users\\\\LENOVO\\\\AppData\\\\Roaming\\\\Python\\\\Python37\\\\site-packages',\n",
       " 'C:\\\\Users\\\\LENOVO\\\\Anaconda3\\\\lib\\\\site-packages',\n",
       " 'C:\\\\Users\\\\LENOVO\\\\Anaconda3\\\\lib\\\\site-packages\\\\win32',\n",
       " 'C:\\\\Users\\\\LENOVO\\\\Anaconda3\\\\lib\\\\site-packages\\\\win32\\\\lib',\n",
       " 'C:\\\\Users\\\\LENOVO\\\\Anaconda3\\\\lib\\\\site-packages\\\\Pythonwin',\n",
       " 'C:\\\\Users\\\\LENOVO\\\\Anaconda3\\\\lib\\\\site-packages\\\\IPython\\\\extensions',\n",
       " 'C:\\\\Users\\\\LENOVO\\\\.ipython']"
      ]
     },
     "execution_count": 148,
     "metadata": {},
     "output_type": "execute_result"
    }
   ],
   "source": [
    "import sys\n",
    "sys.path"
   ]
  },
  {
   "cell_type": "code",
   "execution_count": 149,
   "metadata": {},
   "outputs": [
    {
     "data": {
      "text/plain": [
       "'D:\\\\Data_Science\\\\Batch1_Lessons\\\\example.py'"
      ]
     },
     "execution_count": 149,
     "metadata": {},
     "output_type": "execute_result"
    }
   ],
   "source": [
    "import example\n",
    "example.__file__"
   ]
  },
  {
   "cell_type": "code",
   "execution_count": 150,
   "metadata": {},
   "outputs": [
    {
     "data": {
      "text/plain": [
       "'C:\\\\Users\\\\LENOVO\\\\Anaconda3\\\\lib\\\\re.py'"
      ]
     },
     "execution_count": 150,
     "metadata": {},
     "output_type": "execute_result"
    }
   ],
   "source": [
    "import re\n",
    "re.__file__"
   ]
  },
  {
   "cell_type": "markdown",
   "metadata": {},
   "source": [
    "<h2>Python Package</h2>"
   ]
  },
  {
   "cell_type": "markdown",
   "metadata": {},
   "source": [
    "Suppose you have developed a very large application that includes many modules. As the number of modules grows, it becomes difficult to keep track of them all if they are dumped into one location. This is particularly so if they have similar names or functionality. You might wish for a means of grouping and organizing them.\n",
    "\n",
    "Packages allow for a hierarchical structuring of the module namespace using dot notation. In the same way that modules help avoid collisions between global variable names, packages help avoid collisions between module names.\n",
    "\n",
    "Creating a package is quite straightforward, since it makes use of the operating system’s inherent hierarchical file structure. Consider the following arrangement:"
   ]
  },
  {
   "attachments": {
    "pkg1.9af1c7aea48f.png": {
     "image/png": "[encoded data removed]"
    }
   },
   "cell_type": "markdown",
   "metadata": {},
   "source": [
    "![pkg1.9af1c7aea48f.png](attachment:pkg1.9af1c7aea48f.png)"
   ]
  },
  {
   "cell_type": "code",
   "execution_count": null,
   "metadata": {},
   "outputs": [],
   "source": [
    "#mod1.py\n",
    "def foo():\n",
    "    print('[mod1] foo()')\n",
    "\n",
    "class Foo:\n",
    "    pass"
   ]
  },
  {
   "cell_type": "code",
   "execution_count": null,
   "metadata": {},
   "outputs": [],
   "source": [
    "#mod2.py\n",
    "def bar():\n",
    "    print('[mod2] bar()')\n",
    "\n",
    "class Bar:\n",
    "    pass"
   ]
  },
  {
   "cell_type": "code",
   "execution_count": null,
   "metadata": {},
   "outputs": [],
   "source": [
    "import pkg.mod1, pkg.mod2\n",
    "from pkg.mod1 import foo"
   ]
  },
  {
   "cell_type": "code",
   "execution_count": null,
   "metadata": {},
   "outputs": [],
   "source": [
    "from pkg.mod1 import foo"
   ]
  },
  {
   "attachments": {
    "image.png": {
     "image/png": "[encoded data removed]"
    }
   },
   "cell_type": "markdown",
   "metadata": {},
   "source": [
    "![image.png](attachment:image.png)"
   ]
  },
  {
   "cell_type": "code",
   "execution_count": null,
   "metadata": {},
   "outputs": [],
   "source": [
    "import pkg.sub_pkg1.mod1"
   ]
  },
  {
   "cell_type": "code",
   "execution_count": null,
   "metadata": {},
   "outputs": [],
   "source": [
    "from pkg.sub_pkg1 import mod2"
   ]
  },
  {
   "cell_type": "code",
   "execution_count": null,
   "metadata": {},
   "outputs": [],
   "source": [
    "from pkg.sub_pkg2.mod3 import baz"
   ]
  },
  {
   "cell_type": "markdown",
   "metadata": {},
   "source": [
    "<h2>Install Packages with PIP</h2>"
   ]
  },
  {
   "cell_type": "code",
   "execution_count": null,
   "metadata": {},
   "outputs": [],
   "source": [
    "#Install a package from PyPI:\n",
    "pip install SomePackage\n",
    "#Install a package that’s already been downloaded from PyPI or obtained from elsewhere. This is useful if the target machine does not have a network connection:\n",
    "pip install SomePackage-1.0-py2.py3-none-any.whl\n",
    "#Show what files were installed:\n",
    "    pip show --files SomePackage\n",
    "#List what packages are outdated:\n",
    "pip list --outdated\n",
    "#Upgrade a package:\n",
    "pip install --upgrade SomePackage\n",
    "#Uninstall a package:\n",
    "pip uninstall SomePackage"
   ]
  },
  {
   "cell_type": "markdown",
   "metadata": {},
   "source": [
    "# File Operations "
   ]
  },
  {
   "cell_type": "markdown",
   "metadata": {},
   "source": [
    "<h3>What is a file?</h3>\n",
    "\n",
    "<b>A file is some information or data which stays in the computer storage devices. You already know about different kinds of file , like your music files, video files, text files. Python gives you easy ways to manipulate these files. Generally we divide files in two categories, text file and binary file. Text files are simple text where as the binary files contain binary data which is only readable by computer.</b>\n",
    "\n",
    "<h3>End of Line Character in a text file</h3>\n",
    "\n",
    "<b>Each line is terminated with a special character, called the EOL or End of Line character. There are several types, but the most common is the comma {,} or newline character. It ends the current line and tells the interpreter a new one has begun. \n",
    "\n",
    "A backslash character can also be used, and it tells the interpreter that the next character – following the slash – should be treated as a new line. This character is useful when you don’t want to start a new line in the text itself but in the code. </b>\n",
    "\n",
    "<b>Ex: Harsha.txt, config.py, param.xml, data.csv</b>"
   ]
  },
  {
   "cell_type": "markdown",
   "metadata": {},
   "source": [
    "<h3>Directories and file management in python</h3>"
   ]
  },
  {
   "cell_type": "markdown",
   "metadata": {},
   "source": [
    "<b>Directory is nothing but a folder/location where it can store files, subfolders.\n",
    "To acces the folders and files in python, we have a module named os.</b>\n",
    "<br>\n",
    "\n",
    "<b>os module has diffrent methods to handle both directories and files in python</b>"
   ]
  },
  {
   "cell_type": "markdown",
   "metadata": {},
   "source": [
    "<h3>Create , Delete and rename directories in python using os module. Navigating directories in python</h3>"
   ]
  },
  {
   "cell_type": "code",
   "execution_count": 10,
   "metadata": {},
   "outputs": [
    {
     "data": {
      "text/plain": [
       "'D:\\\\Data_Science\\\\Batch1_Lessons'"
      ]
     },
     "execution_count": 10,
     "metadata": {},
     "output_type": "execute_result"
    }
   ],
   "source": [
    "import os\n",
    "#get current working directory\n",
    "os.getcwd()"
   ]
  },
  {
   "cell_type": "markdown",
   "metadata": {},
   "source": [
    "'D:\\\\\\Data_Science\\\\\\Batch1_Lessons'--> The '\\\\' indicates the escape sequence of the file path. If we want to print only single slash , we can print it using print() function"
   ]
  },
  {
   "cell_type": "code",
   "execution_count": 4,
   "metadata": {},
   "outputs": [
    {
     "name": "stdout",
     "output_type": "stream",
     "text": [
      "D:\\Data_Science\\Batch1_Lessons\n"
     ]
    }
   ],
   "source": [
    "print(os.getcwd())"
   ]
  },
  {
   "cell_type": "code",
   "execution_count": 11,
   "metadata": {},
   "outputs": [
    {
     "data": {
      "text/plain": [
       "['Ashwinv_status_Harsha.pptx',\n",
       " 'GE_Ship_Building',\n",
       " 'Henkel_Video_Analytics',\n",
       " 'L&T_Ship_Building_IPMS',\n",
       " 'LNT_Data_Analytics',\n",
       " 'PDF_Text_Classification',\n",
       " 'Predective_Maintenance',\n",
       " 'Video_Analytics']"
      ]
     },
     "execution_count": 11,
     "metadata": {},
     "output_type": "execute_result"
    }
   ],
   "source": [
    "#Finding list of files in the directory \n",
    "os.listdir(\"D:\\Work\")\n",
    "#it lists all the files in the current working directory"
   ]
  },
  {
   "cell_type": "code",
   "execution_count": 10,
   "metadata": {},
   "outputs": [
    {
     "data": {
      "text/plain": [
       "['Anaconda',\n",
       " 'Analytics_Vidya_Hackathon',\n",
       " 'Analytics_Vidya_Hackathon.zip',\n",
       " 'Assignments_DonorsChoose_2018',\n",
       " 'Assignments_DonorsChoose_2018-20190618T112223Z-002.zip',\n",
       " 'Batch1_Lessons',\n",
       " 'Blindness_Detection',\n",
       " 'DS_Task',\n",
       " 'Machine_Hack_Hackathon',\n",
       " 'Twitter_Sentiment_Anaysis']"
      ]
     },
     "execution_count": 10,
     "metadata": {},
     "output_type": "execute_result"
    }
   ],
   "source": [
    "#Finding list of files in a specific directory\n",
    "os.listdir(\"D:\\\\Data_Science\")"
   ]
  },
  {
   "cell_type": "code",
   "execution_count": 13,
   "metadata": {},
   "outputs": [
    {
     "name": "stdout",
     "output_type": "stream",
     "text": [
      "D:\\Data_Science\n"
     ]
    }
   ],
   "source": [
    "#Change the current working directory\n",
    "os.chdir('D:\\\\Data_Science')\n",
    "print(os.getcwd())"
   ]
  },
  {
   "cell_type": "code",
   "execution_count": 14,
   "metadata": {},
   "outputs": [
    {
     "name": "stdout",
     "output_type": "stream",
     "text": [
      "D:\\Data_Science\\Batch1_Lessons\n"
     ]
    }
   ],
   "source": [
    "os.chdir('D:\\\\Data_Science\\\\Batch1_Lessons')\n",
    "print(os.getcwd())"
   ]
  },
  {
   "cell_type": "code",
   "execution_count": 381,
   "metadata": {},
   "outputs": [],
   "source": [
    "#Create a directory\n",
    "os.mkdir('test')\n",
    "#by default if dont specify the fully qualified path, then it will create a folder in the current working directory"
   ]
  },
  {
   "cell_type": "code",
   "execution_count": 380,
   "metadata": {},
   "outputs": [
    {
     "ename": "FileExistsError",
     "evalue": "[WinError 183] Cannot create a file when that file already exists: 'D:\\\\Data_Science\\\\DS_Task\\\\test'",
     "output_type": "error",
     "traceback": [
      "\u001b[1;31m---------------------------------------------------------------------------\u001b[0m",
      "\u001b[1;31mFileExistsError\u001b[0m                           Traceback (most recent call last)",
      "\u001b[1;32m<ipython-input-380-833fc9c29c4c>\u001b[0m in \u001b[0;36m<module>\u001b[1;34m\u001b[0m\n\u001b[0;32m      1\u001b[0m \u001b[1;31m#Create a directory under specific folder\u001b[0m\u001b[1;33m\u001b[0m\u001b[1;33m\u001b[0m\u001b[1;33m\u001b[0m\u001b[0m\n\u001b[1;32m----> 2\u001b[1;33m \u001b[0mos\u001b[0m\u001b[1;33m.\u001b[0m\u001b[0mmkdir\u001b[0m\u001b[1;33m(\u001b[0m\u001b[1;34m'D:\\\\Data_Science\\\\DS_Task\\\\test'\u001b[0m\u001b[1;33m)\u001b[0m\u001b[1;33m\u001b[0m\u001b[1;33m\u001b[0m\u001b[0m\n\u001b[0m",
      "\u001b[1;31mFileExistsError\u001b[0m: [WinError 183] Cannot create a file when that file already exists: 'D:\\\\Data_Science\\\\DS_Task\\\\test'"
     ]
    }
   ],
   "source": [
    "#Create a directory under specific folder\n",
    "os.mkdir('D:\\\\Data_Science\\\\DS_Task\\\\test')"
   ]
  },
  {
   "cell_type": "code",
   "execution_count": 20,
   "metadata": {},
   "outputs": [
    {
     "data": {
      "text/plain": [
       "['.ipynb_checkpoints',\n",
       " 'example.py',\n",
       " 'img1.PNG',\n",
       " 'img2.PNG',\n",
       " 'test',\n",
       " 'Topics_16_hrs.xlsx',\n",
       " 'Untitled.ipynb',\n",
       " 'Week2.ipynb',\n",
       " 'Week_1.ipynb',\n",
       " '__pycache__',\n",
       " '~$Topics_16_hrs.xlsx']"
      ]
     },
     "execution_count": 20,
     "metadata": {},
     "output_type": "execute_result"
    }
   ],
   "source": [
    "os.listdir()"
   ]
  },
  {
   "cell_type": "code",
   "execution_count": 384,
   "metadata": {},
   "outputs": [
    {
     "ename": "FileNotFoundError",
     "evalue": "[WinError 2] The system cannot find the file specified: 'test' -> 'test_changed'",
     "output_type": "error",
     "traceback": [
      "\u001b[1;31m---------------------------------------------------------------------------\u001b[0m",
      "\u001b[1;31mFileNotFoundError\u001b[0m                         Traceback (most recent call last)",
      "\u001b[1;32m<ipython-input-384-eafd7a099c1e>\u001b[0m in \u001b[0;36m<module>\u001b[1;34m\u001b[0m\n\u001b[0;32m      1\u001b[0m \u001b[1;31m#Rename a folder\u001b[0m\u001b[1;33m\u001b[0m\u001b[1;33m\u001b[0m\u001b[1;33m\u001b[0m\u001b[0m\n\u001b[1;32m----> 2\u001b[1;33m \u001b[0mos\u001b[0m\u001b[1;33m.\u001b[0m\u001b[0mrename\u001b[0m\u001b[1;33m(\u001b[0m\u001b[1;34m'test'\u001b[0m\u001b[1;33m,\u001b[0m\u001b[1;34m'test_changed'\u001b[0m\u001b[1;33m)\u001b[0m\u001b[1;33m\u001b[0m\u001b[1;33m\u001b[0m\u001b[0m\n\u001b[0m\u001b[0;32m      3\u001b[0m \u001b[0mos\u001b[0m\u001b[1;33m.\u001b[0m\u001b[0mlistdir\u001b[0m\u001b[1;33m(\u001b[0m\u001b[1;33m)\u001b[0m\u001b[1;33m\u001b[0m\u001b[1;33m\u001b[0m\u001b[0m\n",
      "\u001b[1;31mFileNotFoundError\u001b[0m: [WinError 2] The system cannot find the file specified: 'test' -> 'test_changed'"
     ]
    }
   ],
   "source": [
    "#Rename a folder\n",
    "os.rename('test','test_changed')\n",
    "os.listdir()"
   ]
  },
  {
   "cell_type": "code",
   "execution_count": 386,
   "metadata": {},
   "outputs": [
    {
     "data": {
      "text/plain": [
       "['abc.txt']"
      ]
     },
     "execution_count": 386,
     "metadata": {},
     "output_type": "execute_result"
    }
   ],
   "source": [
    "os.listdir(\"D:\\\\Data_Science\\\\Batch1_Lessons\\\\test_changed\")"
   ]
  },
  {
   "cell_type": "code",
   "execution_count": 387,
   "metadata": {},
   "outputs": [
    {
     "ename": "OSError",
     "evalue": "[WinError 145] The directory is not empty: 'test_changed'",
     "output_type": "error",
     "traceback": [
      "\u001b[1;31m---------------------------------------------------------------------------\u001b[0m",
      "\u001b[1;31mOSError\u001b[0m                                   Traceback (most recent call last)",
      "\u001b[1;32m<ipython-input-387-f8813f5ec716>\u001b[0m in \u001b[0;36m<module>\u001b[1;34m\u001b[0m\n\u001b[0;32m      1\u001b[0m \u001b[1;31m#Delete a folder, file\u001b[0m\u001b[1;33m\u001b[0m\u001b[1;33m\u001b[0m\u001b[1;33m\u001b[0m\u001b[0m\n\u001b[1;32m----> 2\u001b[1;33m \u001b[0mos\u001b[0m\u001b[1;33m.\u001b[0m\u001b[0mrmdir\u001b[0m\u001b[1;33m(\u001b[0m\u001b[1;34m'test_changed'\u001b[0m\u001b[1;33m)\u001b[0m\u001b[1;33m\u001b[0m\u001b[1;33m\u001b[0m\u001b[0m\n\u001b[0m\u001b[0;32m      3\u001b[0m \u001b[1;31m#You can't delete a not empty directory, u should delete the files inside the directory and delete the folder\u001b[0m\u001b[1;33m\u001b[0m\u001b[1;33m\u001b[0m\u001b[1;33m\u001b[0m\u001b[0m\n",
      "\u001b[1;31mOSError\u001b[0m: [WinError 145] The directory is not empty: 'test_changed'"
     ]
    }
   ],
   "source": [
    "#Delete a folder, file \n",
    "os.rmdir('test_changed')\n",
    "#You can't delete a not empty directory, u should delete the files inside the directory and delete the folder"
   ]
  },
  {
   "cell_type": "code",
   "execution_count": 388,
   "metadata": {},
   "outputs": [],
   "source": [
    "os.remove('D:\\\\Data_Science\\\\Batch1_Lessons\\\\test_changed\\\\abc.txt')"
   ]
  },
  {
   "cell_type": "code",
   "execution_count": 389,
   "metadata": {},
   "outputs": [],
   "source": [
    "#Delete a folder, file \n",
    "#os.chmod('D:\\\\Data_Science\\\\Batch1_Lessons\\\\test_changed', 0777)\n",
    "os.rmdir('D:\\\\Data_Science\\\\Batch1_Lessons\\\\test_changed')"
   ]
  },
  {
   "cell_type": "code",
   "execution_count": 390,
   "metadata": {},
   "outputs": [
    {
     "data": {
      "text/plain": [
       "['.ipynb_checkpoints',\n",
       " '100 Sales Records.csv',\n",
       " 'example.py',\n",
       " 'img1.PNG',\n",
       " 'img2.PNG',\n",
       " 'ML OCT Agenda.pdf',\n",
       " 'my_file.txt',\n",
       " 'test.txt',\n",
       " 'test1.txt',\n",
       " 'Topics_16_hrs.xlsx',\n",
       " 'Untitled.ipynb',\n",
       " 'Week2.ipynb',\n",
       " 'Week_1.ipynb',\n",
       " '__pycache__',\n",
       " '~$Topics_16_hrs.xlsx']"
      ]
     },
     "execution_count": 390,
     "metadata": {},
     "output_type": "execute_result"
    }
   ],
   "source": [
    "os.listdir(\"D:\\\\Data_Science\\\\Batch1_Lessons\")"
   ]
  },
  {
   "cell_type": "code",
   "execution_count": 52,
   "metadata": {},
   "outputs": [],
   "source": [
    " #To remove the directory with all files inside it, we can use shutil module\n",
    "import shutil\n",
    "shutil.rmtree('test_changed')"
   ]
  },
  {
   "cell_type": "code",
   "execution_count": 53,
   "metadata": {},
   "outputs": [
    {
     "data": {
      "text/plain": [
       "['.ipynb_checkpoints',\n",
       " 'example.py',\n",
       " 'img1.PNG',\n",
       " 'img2.PNG',\n",
       " 'Topics_16_hrs.xlsx',\n",
       " 'Untitled.ipynb',\n",
       " 'Week2.ipynb',\n",
       " 'Week_1.ipynb',\n",
       " '__pycache__',\n",
       " '~$Topics_16_hrs.xlsx']"
      ]
     },
     "execution_count": 53,
     "metadata": {},
     "output_type": "execute_result"
    }
   ],
   "source": [
    "os.listdir()"
   ]
  },
  {
   "cell_type": "markdown",
   "metadata": {},
   "source": [
    "<h2>File operations in python</h2>"
   ]
  },
  {
   "cell_type": "code",
   "execution_count": null,
   "metadata": {},
   "outputs": [],
   "source": [
    "#Opening a file \n",
    "Syntax : file_object  = open(“filename”, “mode”,encoding = 'utf-8')\n",
    "#Filename : Name of the file to open and \n",
    "#file_object : Open method will returns a object which has inbuilt functions used for file handling.\n",
    "#Mode   :   It tells the interpreter and developer which way the file will be used.\n",
    "#Encoding : The default encoding is platform dependent. In windows, it is 'cp1252' but 'utf-8' in Linux.\n",
    "#Modes of opening a file in python\n",
    "# 'r'  : Open a file for reading. (default)\n",
    "# 'w'  : Open a file for writing. Creates a new file if it does not exist or truncates the file if it exists.\n",
    "# 'x'  : Open a file for exclusive creation. If the file already exists, the operation fails.\n",
    "# 'a'  : Open for appending at the end of the file without truncating it. Creates a new file if it does not exist.\n",
    "# 't'  : Open in text mode. (default)\n",
    "# 'b'  : Open in binary mode.\n",
    "# 'r+'  :  Special read and write mode, which is used to handle both actions when working with a file "
   ]
  },
  {
   "cell_type": "markdown",
   "metadata": {},
   "source": [
    "<h3>Create a text file</h3>"
   ]
  },
  {
   "cell_type": "code",
   "execution_count": 69,
   "metadata": {},
   "outputs": [],
   "source": [
    "file = open('test.txt','w') \n",
    " \n",
    "file.write('Hello All\\n') \n",
    "file.write('Welcome to Verzeo online machine learning internship program\\n') \n",
    "file.write('This course will help u in learning ML\\n') \n",
    "file.write('Happy learning!\\n') \n",
    "file.close() "
   ]
  },
  {
   "cell_type": "code",
   "execution_count": 140,
   "metadata": {},
   "outputs": [],
   "source": [
    "#Another way of writing a file \n",
    "with open(\"test1.txt\",'w',encoding = 'utf-8') as f:\n",
    "   f.write(\"Hello All\\n\")\n",
    "   f.write(\"Good Morning\\n\\n\")\n",
    "   f.write(\"Welcome to the session\\n\")\n",
    "\n",
    "#This program will create a new file named 'test1.txt' if it does not exist. If it does exist, it is overwritten.\n",
    "#The advantage using 'with' is, u no need to close the file explicitly."
   ]
  },
  {
   "cell_type": "code",
   "execution_count": 393,
   "metadata": {},
   "outputs": [
    {
     "name": "stdout",
     "output_type": "stream",
     "text": [
      "Hello All\n",
      "Welcome to Verzeo online machine learning internship program\n",
      "This course will help u in learning ML\n",
      "Happy learning!\n",
      "New line 1\n",
      "\n",
      "New line 2\n",
      "\n",
      "New line 1\n",
      "\n",
      "New line 2\n",
      "\n",
      "\n"
     ]
    }
   ],
   "source": [
    "#Reading/opening a file\n",
    "#The default mode is read only, ie if you do not provide any mode it will open the file as read only\n",
    "file = open('test.txt', 'r') \n",
    "print(file.read())\n"
   ]
  },
  {
   "cell_type": "code",
   "execution_count": null,
   "metadata": {},
   "outputs": [],
   "source": [
    "#A file operation takes place in the following order.\n",
    "#Open a file\n",
    "#Read or write (perform operation)\n",
    "#Close the file\n",
    "\n",
    "#Always a opened file should be closed,otherwise it will be stored in the memory and if the same process contnus for multipe files ,\n",
    "#it will keep adding and finally theprogram could crash"
   ]
  },
  {
   "cell_type": "code",
   "execution_count": 417,
   "metadata": {},
   "outputs": [],
   "source": [
    "file.close()"
   ]
  },
  {
   "cell_type": "code",
   "execution_count": 12,
   "metadata": {},
   "outputs": [],
   "source": [
    "#Reading individual lines/ reading with size\n",
    "file = open(\"test.txt\",'r',encoding = 'utf-8')"
   ]
  },
  {
   "cell_type": "code",
   "execution_count": 14,
   "metadata": {},
   "outputs": [
    {
     "data": {
      "text/plain": [
       "'lo '"
      ]
     },
     "execution_count": 14,
     "metadata": {},
     "output_type": "execute_result"
    }
   ],
   "source": [
    "# read the first 5 data.\n",
    "file.read(3)\n",
    "#if the text file reading is completed, it will return empty string"
   ]
  },
  {
   "cell_type": "code",
   "execution_count": 15,
   "metadata": {},
   "outputs": [
    {
     "data": {
      "text/plain": [
       "6"
      ]
     },
     "execution_count": 15,
     "metadata": {},
     "output_type": "execute_result"
    }
   ],
   "source": [
    "#Tell and Seek\n",
    "file.tell() # Tell will return the current position of the cluster in the file reading."
   ]
  },
  {
   "cell_type": "code",
   "execution_count": 16,
   "metadata": {},
   "outputs": [
    {
     "data": {
      "text/plain": [
       "'All\\nW'"
      ]
     },
     "execution_count": 16,
     "metadata": {},
     "output_type": "execute_result"
    }
   ],
   "source": [
    "file.read(5)"
   ]
  },
  {
   "cell_type": "code",
   "execution_count": 17,
   "metadata": {},
   "outputs": [
    {
     "data": {
      "text/plain": [
       "12"
      ]
     },
     "execution_count": 17,
     "metadata": {},
     "output_type": "execute_result"
    }
   ],
   "source": [
    "file.tell()"
   ]
  },
  {
   "cell_type": "code",
   "execution_count": 425,
   "metadata": {},
   "outputs": [
    {
     "data": {
      "text/plain": [
       "0"
      ]
     },
     "execution_count": 425,
     "metadata": {},
     "output_type": "execute_result"
    }
   ],
   "source": [
    "#Seek will bring the cursor to the required position back\n",
    "file.seek(0)"
   ]
  },
  {
   "cell_type": "code",
   "execution_count": 426,
   "metadata": {},
   "outputs": [
    {
     "name": "stdout",
     "output_type": "stream",
     "text": [
      "Hello\n"
     ]
    },
    {
     "data": {
      "text/plain": [
       "5"
      ]
     },
     "execution_count": 426,
     "metadata": {},
     "output_type": "execute_result"
    }
   ],
   "source": [
    "print(file.read(5))\n",
    "file.tell()"
   ]
  },
  {
   "cell_type": "code",
   "execution_count": 427,
   "metadata": {},
   "outputs": [
    {
     "name": "stdout",
     "output_type": "stream",
     "text": [
      " All\n",
      "\n"
     ]
    }
   ],
   "source": [
    "file.seek(5)\n",
    "print(file.read(5))"
   ]
  },
  {
   "cell_type": "code",
   "execution_count": 429,
   "metadata": {},
   "outputs": [
    {
     "name": "stdout",
     "output_type": "stream",
     "text": [
      "Hello All\n",
      "Good Morning\n",
      "\n",
      "Welcome to the session\n"
     ]
    }
   ],
   "source": [
    "#Reading lines in a loop\n",
    "file1 = open(\"test1.txt\",'r',encoding = 'utf-8')\n",
    "for x in file1:\n",
    "    print(x, end='')\n",
    "file1.close()"
   ]
  },
  {
   "cell_type": "code",
   "execution_count": 430,
   "metadata": {},
   "outputs": [
    {
     "name": "stdout",
     "output_type": "stream",
     "text": [
      "Hello All\n",
      "\n",
      "Good Morning\n",
      "\n",
      "\n",
      "\n",
      "Welcome to the session\n",
      "\n"
     ]
    }
   ],
   "source": [
    "with open('test1.txt') as f1:\n",
    "    for line in f1:\n",
    "        print(line)"
   ]
  },
  {
   "cell_type": "code",
   "execution_count": 31,
   "metadata": {},
   "outputs": [],
   "source": [
    "#Readline, Readlines\n",
    "file = open('test1.txt',encoding = 'utf-8')"
   ]
  },
  {
   "cell_type": "code",
   "execution_count": 32,
   "metadata": {},
   "outputs": [
    {
     "name": "stdout",
     "output_type": "stream",
     "text": [
      "H\n",
      "1\n"
     ]
    }
   ],
   "source": [
    "#Readline will read line by line till the file ends, if we specify size it will work like read\n",
    "print(file.readline(1))\n",
    "print(file.tell())"
   ]
  },
  {
   "cell_type": "code",
   "execution_count": 444,
   "metadata": {},
   "outputs": [
    {
     "data": {
      "text/plain": [
       "['Hello All\\n', 'Good Morning\\n', '\\n', 'Welcome to the session\\n']"
      ]
     },
     "execution_count": 444,
     "metadata": {},
     "output_type": "execute_result"
    }
   ],
   "source": [
    "#Return all the lines in a list, if all lines are done, it will return empty list\n",
    "file.readlines()"
   ]
  },
  {
   "cell_type": "code",
   "execution_count": 33,
   "metadata": {},
   "outputs": [],
   "source": [
    "#Append Data to a File\n",
    "f=open(\"test.txt\", \"a+\")\n",
    "for i in range(2):\n",
    "     f.write(\"New line %d\\r\\n\" % (i+1))\n",
    "f.close()"
   ]
  },
  {
   "cell_type": "code",
   "execution_count": 446,
   "metadata": {},
   "outputs": [
    {
     "name": "stdout",
     "output_type": "stream",
     "text": [
      "Hello All\n",
      "\n",
      "Welcome to Verzeo online machine learning internship program\n",
      "\n",
      "This course will help u in learning ML\n",
      "\n",
      "Happy learning!\n",
      "\n",
      "New line 1\n",
      "\n",
      "\n",
      "\n",
      "New line 2\n",
      "\n",
      "\n",
      "\n",
      "New line 1\n",
      "\n",
      "\n",
      "\n",
      "New line 2\n",
      "\n",
      "\n",
      "\n",
      "New line 1\n",
      "\n",
      "\n",
      "\n",
      "New line 2\n",
      "\n",
      "\n",
      "\n"
     ]
    }
   ],
   "source": [
    "with open('test.txt') as f1:\n",
    "    for line in f1:\n",
    "        print(line)"
   ]
  },
  {
   "cell_type": "code",
   "execution_count": 447,
   "metadata": {},
   "outputs": [
    {
     "name": "stdout",
     "output_type": "stream",
     "text": [
      "This is line 1\n",
      "\n",
      "This is line 2\n",
      "\n",
      "This is line 3\n",
      "\n",
      "This is line 4\n",
      "\n",
      "This is line 5\n",
      "\n",
      "This is line 6\n",
      "\n",
      "This is line 7\n",
      "\n",
      "This is line 8\n",
      "\n",
      "This is line 9\n",
      "\n",
      "This is line 10\n",
      "\n",
      "\n"
     ]
    }
   ],
   "source": [
    "def main():\n",
    "    f= open(\"my_file.txt\",\"w+\")\n",
    "    for i in range(10):\n",
    "         f.write(\"This is line %d\\r\\n\" % (i+1))\n",
    "    f.close()\n",
    "    #Open the file back and read the contents\n",
    "    f=open(\"my_file.txt\", \"r\")\n",
    "    if f.mode == 'r':\n",
    "        contents =f.read()\n",
    "        print (contents)\n",
    "    #or, readlines reads the individual line into a list\n",
    "    fl =f.readlines()\n",
    "    for x in fl:\n",
    "        print(x)\n",
    "if __name__== \"__main__\":\n",
    "  main()"
   ]
  },
  {
   "cell_type": "code",
   "execution_count": null,
   "metadata": {},
   "outputs": [],
   "source": [
    "#List of file functions\n",
    "# close()          : Close an open file. It has no effect if the file is already closed.\n",
    "# detach()         : Separate the underlying binary buffer from the TextIOBase and return it.\n",
    "# fileno()         : Return an integer number (file descriptor) of the file.\n",
    "# flush()          : Flush the write buffer of the file stream.\n",
    "# isatty()         : Return True if the file stream is interactive.\n",
    "# read(n)          : Read atmost n characters form the file. Reads till end of file if it is negative or None.\n",
    "# readable()       : Returns True if the file stream can be read from.\n",
    "# readline(n=-1)   : Read and return one line from the file. Reads in at most n bytes if specified.\n",
    "# readlines(n=-1)  : Read and return a list of lines from the file. Reads in at most n bytes/characters if specified.\n",
    "# seek(offset,from=SEEK_SET) : Change the file position to offset bytes, in reference to from (start, current, end).\n",
    "# seekable()       : Returns True if the file stream supports random access.\n",
    "# tell()           : Returns the current file location.\n",
    "# truncate(size=None) : Resize the file stream to size bytes. If size is not specified, resize to current location.\n",
    "# writable()       : Returns True if the file stream can be written to.\n",
    "# write(s)         : Write string s to the file and return the number of characters written.\n",
    "# writelines(lines) : Write a list of lines to the file."
   ]
  },
  {
   "cell_type": "code",
   "execution_count": null,
   "metadata": {},
   "outputs": [],
   "source": []
  }
 ],
 "metadata": {
  "kernelspec": {
   "display_name": "Python 3",
   "language": "python",
   "name": "python3"
  },
  "language_info": {
   "codemirror_mode": {
    "name": "ipython",
    "version": 3
   },
   "file_extension": ".py",
   "mimetype": "text/x-python",
   "name": "python",
   "nbconvert_exporter": "python",
   "pygments_lexer": "ipython3",
   "version": "3.7.5"
  }
 },
 "nbformat": 4,
 "nbformat_minor": 2
}
