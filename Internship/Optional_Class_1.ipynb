{
 "cells": [
  {
   "cell_type": "markdown",
   "metadata": {},
   "source": [
    "<h2>What is Regular Expression and how is it used?</h2>"
   ]
  },
  {
   "cell_type": "markdown",
   "metadata": {},
   "source": [
    "<b>Regular expression is a sequence of character(s) mainly used to find and replace patterns in a string or file.</b><br>\n",
    "<b>Regular expressions, also called regex, is a syntax or rather a language to search, extract and manipulate specific string patterns from a larger text. It is widely used in projects that involve text validation, NLP and text mining</b>"
   ]
  },
  {
   "cell_type": "markdown",
   "metadata": {},
   "source": [
    "<ul><li>Regular Expressions are common in many programming languages like Java,R, Python etc..</li>\n",
    "<li>In Python we can use the regular expressions using a module called <b>re</b></li>\n",
    "<li>We should import the re module , before starting with regular expressions(import re)</li>\n",
    "    <li>Regular expressions use two types of characters: Meta characters, Literals</li>\n",
    "    <li>Meta characters : As the name suggests, these characters have a special meaning, similar to * in wild card.</li>\n",
    "    <li>Literals (like a,b,1,2…)</li>\n",
    "    <li> Example: match = re.search(pat, str)</li>\n",
    "</ul>"
   ]
  },
  {
   "cell_type": "code",
   "execution_count": 172,
   "metadata": {},
   "outputs": [
    {
     "name": "stdout",
     "output_type": "stream",
     "text": [
      "<re.Match object; span=(0, 6), match='verzeo'>\n",
      "Search successful.\n"
     ]
    }
   ],
   "source": [
    "#Example\n",
    "import re\n",
    "pattern = '^v....o$' # RegEx pattern\n",
    "test_string = 'verzeo'\n",
    "result = re.match(pattern, test_string) #re.match() function to search pattern within the test_string\n",
    "print(result) #The method returns a match object if the search is successful. If not, it returns None\n",
    "if result:\n",
    "  print(\"Search successful.\")\n",
    "else:\n",
    "  print(\"Search unsuccessful.\")"
   ]
  },
  {
   "cell_type": "markdown",
   "metadata": {},
   "source": [
    "<b>Explanation:</b><br>\n",
    "\n",
    "The above code defines a RegEx pattern. The pattern is: any six letter word starting with v and ending with o.\n",
    "\n",
    "A pattern defined using RegEx can be used to match against a string.\n",
    "\n",
    "\n",
    "Ex: verkeo, vaboeo, vskoeo etc..\n",
    "\n",
    "re.match() will return the match object it the pattern is found in the string, else none"
   ]
  },
  {
   "cell_type": "markdown",
   "metadata": {},
   "source": [
    "<b>Advantages of regular expression</b>\n",
    "\n",
    "Search a string (search and match)\n",
    "\n",
    "Finding a string (findall)\n",
    "\n",
    "Break string into a sub strings (split)\n",
    "\n",
    "Replace part of a string (sub)"
   ]
  },
  {
   "cell_type": "markdown",
   "metadata": {},
   "source": [
    "<h2>How to write a regular expression</h2>"
   ]
  },
  {
   "cell_type": "markdown",
   "metadata": {},
   "source": [
    "<b>MetaCharacters</b><br>\n",
    "\n",
    "Metacharacters are characters that are interpreted in a special way by a RegEx engine. \n",
    "\n",
    "Here's a list of metacharacters:    [] . ^ $ * + ? {} () \\ |"
   ]
  },
  {
   "cell_type": "markdown",
   "metadata": {},
   "source": [
    "<h3>[] - Square brackets</h3>"
   ]
  },
  {
   "cell_type": "code",
   "execution_count": 23,
   "metadata": {},
   "outputs": [],
   "source": [
    "#Square brackets specifies a set of characters you wish to match.\n",
    "#Here, below [har] will match if the string you are trying to match contains any of the h/a/r.\n",
    "#You can also specify a range of characters using - inside square brackets.\n",
    "#Example : \n",
    "#[a-e] is the same as [abcde].\n",
    "#[1-4] is the same as [1234].\n",
    "#[0-39] is the same as [01239].\n",
    "\n",
    "#You can complement (invert) the character set by using caret ^ symbol at the start of a square-bracket.\n",
    "#Exaple : [^abc] means any character except a or b or c.\n",
    "#         [^0-9] means any non-digit character."
   ]
  },
  {
   "attachments": {
    "image.png": {
     "image/png": "[encoded data removed]"
    }
   },
   "cell_type": "markdown",
   "metadata": {},
   "source": [
    "![image.png](attachment:image.png)"
   ]
  },
  {
   "cell_type": "markdown",
   "metadata": {},
   "source": [
    "<b>Function compile()</b><br>\n",
    "\n",
    "Regular expressions are compiled into pattern objects, which have methods for various operations such as searching for pattern matches or performing string substitutions."
   ]
  },
  {
   "cell_type": "code",
   "execution_count": 25,
   "metadata": {},
   "outputs": [
    {
     "name": "stdout",
     "output_type": "stream",
     "text": [
      "['a', 'a', 'e']\n"
     ]
    }
   ],
   "source": [
    "import re \n",
    "  \n",
    "# compile() creates regular expression character class [a-e], \n",
    "# which is equivalent to [abcde]. \n",
    "# class [abcde] will match with string with 'a', 'b', 'c', 'd', 'e'. \n",
    "p = re.compile('[a-e]') \n",
    "  \n",
    "# findall() searches for the Regular Expression and return a list upon finding \n",
    "print(p.findall(\"hi all!!!, how are you?\")) "
   ]
  },
  {
   "cell_type": "code",
   "execution_count": 5,
   "metadata": {},
   "outputs": [
    {
     "name": "stdout",
     "output_type": "stream",
     "text": [
      "['h', 'i', ' ', 'l', 'l', '!', '!', '!', ',', ' ', 'h', 'o', 'w', ' ', 'r', ' ', 'y', 'o', 'u', '?']\n"
     ]
    }
   ],
   "source": [
    "p = re.compile('[^a-e]')\n",
    "print(re.findall(p,\"hi all!!!, how are you?\")) "
   ]
  },
  {
   "attachments": {
    "image.png": {
     "image/png": "[encoded data removed]"
    }
   },
   "cell_type": "markdown",
   "metadata": {},
   "source": [
    "<h3>. - Period</h3>\n",
    "\n",
    "A period matches any single character (except newline '\\n').\n",
    "\n",
    "![image.png](attachment:image.png)"
   ]
  },
  {
   "cell_type": "code",
   "execution_count": 10,
   "metadata": {},
   "outputs": [
    {
     "name": "stdout",
     "output_type": "stream",
     "text": [
      "[]\n",
      "[]\n",
      "['hi ']\n",
      "<re.Match object; span=(0, 3), match='hi '>\n"
     ]
    }
   ],
   "source": [
    "p = re.compile('...') \n",
    "print(p.findall(\"h\"))\n",
    "print(p.findall(\"hi\")) \n",
    "print(p.findall(\"hi all\")) \n",
    "print(re.search(p,\"hi all!!!, how are you?\")) "
   ]
  },
  {
   "cell_type": "code",
   "execution_count": 17,
   "metadata": {},
   "outputs": [
    {
     "name": "stdout",
     "output_type": "stream",
     "text": [
      "[]\n",
      "['hi']\n",
      "['hi']\n",
      "<re.Match object; span=(0, 2), match='hi'>\n"
     ]
    }
   ],
   "source": [
    "p = re.compile('^..') \n",
    "print(p.findall(\"h\"))\n",
    "print(p.findall(\"hi\")) \n",
    "print(p.findall(\"hi all\")) \n",
    "print(re.search(p,\"hi all!!!, how are you?\")) "
   ]
  },
  {
   "attachments": {
    "image.png": {
     "image/png": "[encoded data removed]"
    }
   },
   "cell_type": "markdown",
   "metadata": {},
   "source": [
    "<h3>^ - Caret</h3>\n",
    "\n",
    "The caret symbol ^ is used to check if a string starts with a certain character.\n",
    "\n",
    "![image.png](attachment:image.png)"
   ]
  },
  {
   "cell_type": "code",
   "execution_count": 46,
   "metadata": {},
   "outputs": [
    {
     "name": "stdout",
     "output_type": "stream",
     "text": [
      "[]\n",
      "['h']\n",
      "[]\n",
      "<re.Match object; span=(0, 1), match='h'>\n"
     ]
    }
   ],
   "source": [
    "#Example\n",
    "p = re.compile('^h') \n",
    "print(p.findall(\"yahh\")) \n",
    "print(p.findall(\"hi\")) \n",
    "print(p.findall(\"all\")) \n",
    "print(re.search(p,\"hi all!!!, how are you?\")) "
   ]
  },
  {
   "attachments": {
    "image.png": {
     "image/png": "[encoded data removed]"
    }
   },
   "cell_type": "markdown",
   "metadata": {},
   "source": [
    "<h3>$ - Dollar</h3>\n",
    "\n",
    "The dollar symbol $ is used to check if a string ends with a certain character.\n",
    "    \n",
    "![image.png](attachment:image.png)"
   ]
  },
  {
   "cell_type": "code",
   "execution_count": 47,
   "metadata": {},
   "outputs": [
    {
     "name": "stdout",
     "output_type": "stream",
     "text": [
      "['sh']\n",
      "[]\n",
      "['sh']\n",
      "None\n"
     ]
    }
   ],
   "source": [
    "#Example\n",
    "p = re.compile('sh$')\n",
    "print(p.findall(\"harsh\"))\n",
    "print(p.findall(\"hi\"))\n",
    "print(p.findall(\"smash\"))\n",
    "print(re.search(p,\"hi all!!!, how are you?\"))"
   ]
  },
  {
   "attachments": {
    "image.png": {
     "image/png": "[encoded data removed]"
    }
   },
   "cell_type": "markdown",
   "metadata": {},
   "source": [
    "<h3>* - Star</h3>\n",
    "\n",
    "The star symbol * matches zero or more occurrences of the pattern left to it.\n",
    "\n",
    "![image.png](attachment:image.png)"
   ]
  },
  {
   "cell_type": "code",
   "execution_count": 19,
   "metadata": {},
   "outputs": [
    {
     "name": "stdout",
     "output_type": "stream",
     "text": [
      "['mn']\n",
      "['man']\n",
      "['maan']\n",
      "[]\n",
      "['man']\n",
      "None\n"
     ]
    }
   ],
   "source": [
    "#Example\n",
    "p = re.compile('ma*n')\n",
    "print(p.findall(\"mn\"))\n",
    "print(p.findall(\"man\"))\n",
    "print(p.findall(\"maan\"))\n",
    "print(p.findall(\"main\"))\n",
    "print(p.findall(\"woman\"))\n",
    "print(re.search(p,\"hi all!!!, how are you?\"))"
   ]
  },
  {
   "cell_type": "code",
   "execution_count": 21,
   "metadata": {},
   "outputs": [
    {
     "name": "stdout",
     "output_type": "stream",
     "text": [
      "[]\n",
      "[]\n",
      "['hr']\n",
      "[]\n",
      "['haar']\n",
      "None\n"
     ]
    }
   ],
   "source": [
    "#Example\n",
    "p = re.compile('ha*r')\n",
    "print(p.findall(\"hasha\"))\n",
    "print(p.findall(\"arsh\"))\n",
    "print(p.findall(\"hahr\"))\n",
    "print(p.findall(\"sha\"))\n",
    "print(p.findall(\"haarsha\"))\n",
    "print(re.search(p,\"hi all!!!, how are you?\"))"
   ]
  },
  {
   "attachments": {
    "image.png": {
     "image/png": "[encoded data removed]"
    }
   },
   "cell_type": "markdown",
   "metadata": {},
   "source": [
    "<h3>+ - Plus</h3>\n",
    "\n",
    "The plus symbol + matches one or more occurrences of the pattern left to it.\n",
    "\n",
    "![image.png](attachment:image.png)"
   ]
  },
  {
   "cell_type": "code",
   "execution_count": 22,
   "metadata": {},
   "outputs": [
    {
     "name": "stdout",
     "output_type": "stream",
     "text": [
      "[]\n",
      "['man']\n",
      "['maan']\n",
      "[]\n",
      "['man']\n",
      "None\n"
     ]
    }
   ],
   "source": [
    "#Example\n",
    "p = re.compile('ma+n')\n",
    "print(p.findall(\"mn\"))\n",
    "print(p.findall(\"man\"))\n",
    "print(p.findall(\"maan\"))\n",
    "print(p.findall(\"main\"))\n",
    "print(p.findall(\"woman\"))\n",
    "print(re.search(p,\"hi all!!!, how are you?\"))"
   ]
  },
  {
   "cell_type": "code",
   "execution_count": 25,
   "metadata": {},
   "outputs": [
    {
     "name": "stdout",
     "output_type": "stream",
     "text": [
      "[]\n",
      "[]\n",
      "[]\n",
      "[]\n",
      "['har']\n",
      "None\n"
     ]
    }
   ],
   "source": [
    "#Example\n",
    "p = re.compile('ha+r')\n",
    "print(p.findall(\"hasha\"))\n",
    "print(p.findall(\"arsh\"))\n",
    "print(p.findall(\"hahr\"))\n",
    "print(p.findall(\"sha\"))\n",
    "print(p.findall(\"harsha\"))\n",
    "print(re.search(p,\"hi all!!!, how are you?\"))"
   ]
  },
  {
   "attachments": {
    "image.png": {
     "image/png": "[encoded data removed]"
    }
   },
   "cell_type": "markdown",
   "metadata": {},
   "source": [
    "<h3>? - Question Mark</h3>\n",
    "\n",
    "The question mark symbol ? matches zero or one occurrence of the pattern left to it.\n",
    "\n",
    "![image.png](attachment:image.png)"
   ]
  },
  {
   "cell_type": "code",
   "execution_count": 52,
   "metadata": {},
   "outputs": [
    {
     "name": "stdout",
     "output_type": "stream",
     "text": [
      "['mn']\n",
      "['man']\n",
      "[]\n",
      "[]\n",
      "['man']\n",
      "None\n"
     ]
    }
   ],
   "source": [
    "#Example\n",
    "p = re.compile('ma?n')\n",
    "print(p.findall(\"mn\"))\n",
    "print(p.findall(\"man\"))\n",
    "print(p.findall(\"maan\"))\n",
    "print(p.findall(\"main\"))\n",
    "print(p.findall(\"woman\"))\n",
    "print(re.search(p,\"hi all!!!, how are you?\"))"
   ]
  },
  {
   "attachments": {
    "image.png": {
     "image/png": "[encoded data removed]"
    }
   },
   "cell_type": "markdown",
   "metadata": {},
   "source": [
    "<h3>{} - Braces</h3>\n",
    "\n",
    "Consider this code: {n,m}. This means at least n, and at most m repetitions of the pattern left to it.\n",
    "\n",
    "![image.png](attachment:image.png)"
   ]
  },
  {
   "attachments": {
    "image.png": {
     "image/png": "[encoded data removed]"
    }
   },
   "cell_type": "markdown",
   "metadata": {},
   "source": [
    "Let's try one more example. This RegEx [0-9]{2, 4} matches at least 2 digits but not more than 4 digits\n",
    "\n",
    "![image.png](attachment:image.png)"
   ]
  },
  {
   "cell_type": "code",
   "execution_count": 27,
   "metadata": {},
   "outputs": [
    {
     "name": "stdout",
     "output_type": "stream",
     "text": [
      "['ab', 'csde']\n",
      "[' and', '67']\n",
      "[' and']\n",
      "[' abc']\n"
     ]
    }
   ],
   "source": [
    "#Example\n",
    "p = re.compile('[^0-5]{2,4}')\n",
    "print(p.findall(\"ab123csde\"))\n",
    "print(p.findall(\"12 and 345673\"))\n",
    "print(p.findall(\"1 and 2\"))\n",
    "print(p.findall(\"15 abc 16\"))"
   ]
  },
  {
   "attachments": {
    "image.png": {
     "image/png": "[encoded data removed]"
    }
   },
   "cell_type": "markdown",
   "metadata": {},
   "source": [
    "<h3>| - Alternation</h3>\n",
    "\n",
    "Vertical bar | is used for alternation (or operator).\n",
    "\n",
    "Here, a|b match any string that contains either a or b.\n",
    "\n",
    "![image.png](attachment:image.png)"
   ]
  },
  {
   "cell_type": "code",
   "execution_count": 30,
   "metadata": {},
   "outputs": [
    {
     "name": "stdout",
     "output_type": "stream",
     "text": [
      "['a', 'b', 'c', 'd']\n",
      "['h', 'a', 'h', 'a']\n",
      "['v', 'd']\n",
      "[]\n"
     ]
    }
   ],
   "source": [
    "#Example\n",
    "p = re.compile('a|h')\n",
    "print(p.findall(\"ab123csde\"))\n",
    "print(p.findall(\"harsha\"))\n",
    "print(p.findall(\"vinod\"))\n",
    "print(p.findall(\"nnnnnnn\"))"
   ]
  },
  {
   "attachments": {
    "image.png": {
     "image/png": "[encoded data removed]"
    }
   },
   "cell_type": "markdown",
   "metadata": {},
   "source": [
    "<h3>() - Group</h3>\n",
    "\n",
    "Parentheses () is used to group sub-patterns. For example, (a|b|c)xz match any string that matches either a or b or c followed by xz.\n",
    "\n",
    "![image.png](attachment:image.png)"
   ]
  },
  {
   "cell_type": "code",
   "execution_count": 33,
   "metadata": {},
   "outputs": [
    {
     "name": "stdout",
     "output_type": "stream",
     "text": [
      "[' ']\n",
      "['b']\n",
      "['a', 'b']\n",
      "['d']\n"
     ]
    }
   ],
   "source": [
    "#Example\n",
    "p = re.compile('(a|b|[^e-z])xz')\n",
    "print(p.findall(\"ab xz\"))\n",
    "print(p.findall(\"abxz\"))\n",
    "print(p.findall(\"axz cabxz\"))\n",
    "print(p.findall(\"edxz\"))"
   ]
  },
  {
   "cell_type": "markdown",
   "metadata": {},
   "source": [
    "<h3>\\ - Backslash</h3>\n",
    "\n",
    "Backlash \\ is used to escape various characters including all metacharacters. For example,\n",
    "\n",
    "<p>\\\\$a match if a string contains \\$ followed by a. Here, $ is not interpreted by a RegEx engine in a special way.</p>\n",
    "\n",
    "If you are unsure if a character has special meaning or not, you can put \\ in front of it. This makes sure the character is not treated in a special way."
   ]
  },
  {
   "cell_type": "code",
   "execution_count": 36,
   "metadata": {},
   "outputs": [
    {
     "name": "stdout",
     "output_type": "stream",
     "text": [
      "[]\n",
      "[]\n"
     ]
    }
   ],
   "source": [
    "#Example\n",
    "p = re.compile('\\$Python')\n",
    "print(p.findall(\"IlikeZPython\"))\n",
    "print(p.findall(\"I like Python\"))"
   ]
  },
  {
   "cell_type": "markdown",
   "metadata": {},
   "source": [
    "<h2>Special Sequences</h2>"
   ]
  },
  {
   "attachments": {
    "image.png": {
     "image/png": "[encoded data removed]"
    }
   },
   "cell_type": "markdown",
   "metadata": {},
   "source": [
    "Special sequences make commonly used patterns easier to write. Here's a list of special sequences:\n",
    "\n",
    "\\A - Matches if the specified characters are at the start of a string.\n",
    "\n",
    "![image.png](attachment:image.png)"
   ]
  },
  {
   "attachments": {
    "image.png": {
     "image/png": "[encoded data removed]"
    }
   },
   "cell_type": "markdown",
   "metadata": {},
   "source": [
    "\\b - Matches if the specified characters are at the beginning or end of a word.\n",
    "\n",
    "![image.png](attachment:image.png)\n"
   ]
  },
  {
   "attachments": {
    "image.png": {
     "image/png": "[encoded data removed]"
    }
   },
   "cell_type": "markdown",
   "metadata": {},
   "source": [
    "\\B - Opposite of \\b. Matches if the specified characters are not at the beginning or end of a word.\n",
    "\n",
    "![image.png](attachment:image.png)"
   ]
  },
  {
   "attachments": {
    "image.png": {
     "image/png": "[encoded data removed]"
    }
   },
   "cell_type": "markdown",
   "metadata": {},
   "source": [
    "\\d - Matches any decimal digit. Equivalent to [0-9]\n",
    "\n",
    "![image.png](attachment:image.png)"
   ]
  },
  {
   "attachments": {
    "image.png": {
     "image/png": "[encoded data removed]"
    }
   },
   "cell_type": "markdown",
   "metadata": {},
   "source": [
    "\\D - Matches any non-decimal digit. Equivalent to [^0-9]\n",
    "\n",
    "![image.png](attachment:image.png)"
   ]
  },
  {
   "attachments": {
    "image.png": {
     "image/png": "[encoded data removed]"
    }
   },
   "cell_type": "markdown",
   "metadata": {},
   "source": [
    "\\s - Matches where a string contains any whitespace character.\n",
    "\n",
    "![image.png](attachment:image.png)"
   ]
  },
  {
   "attachments": {
    "image.png": {
     "image/png": "[encoded data removed]"
    }
   },
   "cell_type": "markdown",
   "metadata": {},
   "source": [
    "\\S - Matches where a string contains any non-whitespace character. Equivalent to [^ \\t\\n\\r\\f\\v].\n",
    "\n",
    "![image.png](attachment:image.png)"
   ]
  },
  {
   "attachments": {
    "image.png": {
     "image/png": "[encoded data removed]"
    }
   },
   "cell_type": "markdown",
   "metadata": {},
   "source": [
    "\\w - Matches any alphanumeric character (digits and alphabets). Equivalent to [a-zA-Z0-9_]. By the way, underscore _ is also considered an alphanumeric character.\n",
    "\n",
    "![image.png](attachment:image.png)"
   ]
  },
  {
   "attachments": {
    "image.png": {
     "image/png": "[encoded data removed]"
    }
   },
   "cell_type": "markdown",
   "metadata": {},
   "source": [
    "\n",
    "\\W - Matches any non-alphanumeric character. Equivalent to [^a-zA-Z0-9_]\n",
    "\n",
    "![image.png](attachment:image.png)"
   ]
  },
  {
   "cell_type": "markdown",
   "metadata": {},
   "source": [
    "<h2>re.findall()</h2>\n",
    "\n",
    "The re.findall() method returns a list of strings containing all matches."
   ]
  },
  {
   "cell_type": "code",
   "execution_count": 65,
   "metadata": {},
   "outputs": [
    {
     "name": "stdout",
     "output_type": "stream",
     "text": [
      "['12', '89', '34']\n"
     ]
    }
   ],
   "source": [
    "# Program to extract numbers from a string\n",
    "import re\n",
    "string = 'hello 12 hi 89. Howdy 34'\n",
    "pattern = '\\d+'\n",
    "result = re.findall(pattern, string) \n",
    "print(result)"
   ]
  },
  {
   "cell_type": "code",
   "execution_count": 39,
   "metadata": {},
   "outputs": [
    {
     "name": "stdout",
     "output_type": "stream",
     "text": [
      "['12', '89', '34', '45', '65']\n"
     ]
    }
   ],
   "source": [
    "# Program to extract numbers from a string\n",
    "import re\n",
    "string = 'hello 12 hi 89. Howdy 34 a45 b65'\n",
    "pattern = '\\d+'\n",
    "result = re.findall(pattern, string) \n",
    "print(result)"
   ]
  },
  {
   "cell_type": "markdown",
   "metadata": {},
   "source": [
    "<h2>re.split()</h2>\n",
    "\n",
    "The re.split method splits the string where there is a match and returns a list of strings where the splits have occurred."
   ]
  },
  {
   "cell_type": "code",
   "execution_count": 66,
   "metadata": {},
   "outputs": [
    {
     "name": "stdout",
     "output_type": "stream",
     "text": [
      "['Twelve:', ' Eighty nine:', '.']\n"
     ]
    }
   ],
   "source": [
    "import re\n",
    "string = 'Twelve:12 Eighty nine:89.'\n",
    "pattern = '\\d+'\n",
    "result = re.split(pattern, string) \n",
    "print(result)"
   ]
  },
  {
   "cell_type": "markdown",
   "metadata": {},
   "source": [
    "<h2>re.sub()</h2>\n",
    "The method returns a string where matched occurrences are replaced with the content of replace variable.\n",
    "\n",
    "Syntax: re.sub(pattern, replace, string)"
   ]
  },
  {
   "cell_type": "code",
   "execution_count": 40,
   "metadata": {},
   "outputs": [
    {
     "name": "stdout",
     "output_type": "stream",
     "text": [
      "abc de  \n",
      " f \n"
     ]
    }
   ],
   "source": [
    "# Program to remove all whitespaces\n",
    "import re\n",
    "# multiline string\n",
    "string = 'abc 12\\\n",
    "de 23 \\n f45 6'\n",
    "# matches all whitespace characters\n",
    "pattern = '\\d+'\n",
    "# empty string\n",
    "replace = ''\n",
    "new_string = re.sub(pattern, replace, string) \n",
    "print(new_string) #If the pattern is no found, re.sub() returns the original string."
   ]
  },
  {
   "cell_type": "markdown",
   "metadata": {},
   "source": [
    "<h2>re.subn()</h2>\n",
    "\n",
    "The re.subn() is similar to re.sub() expect it returns a tuple of 2 items containing the new string and the number of substitutions made."
   ]
  },
  {
   "cell_type": "code",
   "execution_count": 41,
   "metadata": {},
   "outputs": [
    {
     "name": "stdout",
     "output_type": "stream",
     "text": [
      "('abc12de23f456', 4)\n"
     ]
    }
   ],
   "source": [
    "# Program to remove all whitespaces\n",
    "import re\n",
    "# multiline string\n",
    "string = 'abc 12\\\n",
    "de 23 \\n f45 6'\n",
    "# matches all whitespace characters\n",
    "pattern = '\\s+'\n",
    "# empty string\n",
    "replace = ''\n",
    "new_string = re.subn(pattern, replace, string) \n",
    "print(new_string)"
   ]
  },
  {
   "cell_type": "markdown",
   "metadata": {},
   "source": [
    "<h2>re.search()</h2>\n",
    "\n",
    "The re.search() method takes two arguments: a pattern and a string. The method looks for the first location where the RegEx pattern produces a match with the string.\n",
    "\n",
    "If the search is successful, re.search() returns a match object; if not, it returns None\n",
    "\n",
    "Syntax:match = re.search(pattern, str)"
   ]
  },
  {
   "cell_type": "code",
   "execution_count": 69,
   "metadata": {},
   "outputs": [
    {
     "name": "stdout",
     "output_type": "stream",
     "text": [
      "pattern found inside the string\n"
     ]
    }
   ],
   "source": [
    "import re\n",
    "string = \"Python is fun\"\n",
    "# check if 'Python' is at the beginning\n",
    "match = re.search('\\APython', string)\n",
    "if match:\n",
    "  print(\"pattern found inside the string\")\n",
    "else:\n",
    "  print(\"pattern not found\")  "
   ]
  },
  {
   "cell_type": "markdown",
   "metadata": {},
   "source": [
    "<h2>match.group()</h2>\n",
    "\n",
    "The group() method returns the part of the string where there is a match."
   ]
  },
  {
   "cell_type": "code",
   "execution_count": 42,
   "metadata": {},
   "outputs": [
    {
     "name": "stdout",
     "output_type": "stream",
     "text": [
      "801 35\n"
     ]
    }
   ],
   "source": [
    "import re\n",
    "string = '39801 356, 2102 1111'\n",
    "# Three digit number followed by space followed by two digit number\n",
    "pattern = '(\\d{3}) (\\d{2})'\n",
    "# match variable contains a Match object.\n",
    "match = re.search(pattern, string) \n",
    "if match:\n",
    "  print(match.group())\n",
    "else:\n",
    "  print(\"pattern not found\")"
   ]
  },
  {
   "cell_type": "markdown",
   "metadata": {},
   "source": [
    "Here, match variable contains a match object.\n",
    "\n",
    "Our pattern (\\d{3}) (\\d{2}) has two subgroups (\\d{3}) and (\\d{2}). You can get the part of the string of these parenthesized subgroups."
   ]
  },
  {
   "cell_type": "code",
   "execution_count": 71,
   "metadata": {},
   "outputs": [
    {
     "name": "stdout",
     "output_type": "stream",
     "text": [
      "801\n",
      "35\n"
     ]
    }
   ],
   "source": [
    "print(match.group(1))\n",
    "print(match.group(2))\n"
   ]
  },
  {
   "cell_type": "markdown",
   "metadata": {},
   "source": [
    "<h2>Using r prefix before RegEx</h2>\n",
    "\n",
    "When r or R prefix is used before a regular expression, it means raw string. For example, '\\n' is a new line whereas r'\\n' means two characters: a backslash \\ followed by n.\n",
    "\n",
    "Backlash \\ is used to escape various characters including all metacharacters. However, using r prefix makes \\ treat as a normal character."
   ]
  },
  {
   "cell_type": "code",
   "execution_count": 51,
   "metadata": {},
   "outputs": [
    {
     "name": "stdout",
     "output_type": "stream",
     "text": [
      "['\\n', '\\r']\n"
     ]
    }
   ],
   "source": [
    "import re\n",
    "string = '\\n and \\r are escape sequences.'\n",
    "result = re.findall(R'[\\n\\r]', string) \n",
    "print(result)"
   ]
  },
  {
   "cell_type": "markdown",
   "metadata": {},
   "source": [
    "<h2>Some Examples of Regular Expressions</h2>"
   ]
  },
  {
   "cell_type": "code",
   "execution_count": 48,
   "metadata": {},
   "outputs": [
    {
     "name": "stdout",
     "output_type": "stream",
     "text": [
      "[]\n"
     ]
    }
   ],
   "source": [
    "#Return the first word of a given string\n",
    "result=re.findall(r'\\w+ \\n','Hello Everyone , How are you?')\n",
    "print(result)"
   ]
  },
  {
   "cell_type": "code",
   "execution_count": 75,
   "metadata": {},
   "outputs": [
    {
     "name": "stdout",
     "output_type": "stream",
     "text": [
      "['AV', 'is', 'la', 'rg', 'es', 'An', 'al', 'yt', 'ic', 'co', 'mm', 'un', 'it', 'of', 'In', 'di']\n"
     ]
    }
   ],
   "source": [
    "#Return the first two character of each word\n",
    "result=re.findall(r'\\w\\w','AV is largest Analytics community of India')\n",
    "print(result)"
   ]
  },
  {
   "cell_type": "code",
   "execution_count": 47,
   "metadata": {},
   "outputs": [
    {
     "name": "stdout",
     "output_type": "stream",
     "text": [
      "['12-05-2007', '11-11-2011', '12-01-2009']\n"
     ]
    }
   ],
   "source": [
    "#Return date from given string\n",
    "result=re.findall(r'\\d{2}-\\d{2}-\\d{4}','Amit 34-3456 12-05-2007, XYZ 56-4532 11-11-2011, ABC 67-8945 12-01-2009')\n",
    "print(result)"
   ]
  },
  {
   "cell_type": "code",
   "execution_count": 45,
   "metadata": {},
   "outputs": [
    {
     "name": "stdout",
     "output_type": "stream",
     "text": [
      "yes\n",
      "no\n",
      "no\n"
     ]
    }
   ],
   "source": [
    "#Validate a phone number (phone number must be of 10 digits and starts with 8 or 9) \n",
    "import re\n",
    "li=['8999999999','999999-999','99999x9999']\n",
    "for val in li:\n",
    " if re.match(r'[8-9]{1}[0-9]{9}',val) and len(val) == 10:\n",
    "     print('yes')\n",
    " else:\n",
    "     print('no')"
   ]
  },
  {
   "cell_type": "markdown",
   "metadata": {},
   "source": [
    "So, we have the string we intend to search. We see that we have ages that are integers 2-3 numbers in length. We could also expect digits that are just 1, under 10 years old. We probably wont be seeing any digits that are 4 in length, unless we're talking about biblical times or something"
   ]
  },
  {
   "cell_type": "code",
   "execution_count": 1,
   "metadata": {},
   "outputs": [
    {
     "name": "stdout",
     "output_type": "stream",
     "text": [
      "['15', '27', '97', '102']\n",
      "['Jessica', 'Daniel', 'Edward', 'Oscar']\n"
     ]
    }
   ],
   "source": [
    "import re\n",
    "\n",
    "exampleString = '''\n",
    "Jessica is 15 years old, and Daniel is 27 years old.\n",
    "Edward is 97 years old, and his grandfather, Oscar, is 102. \n",
    "'''\n",
    "ages = re.findall(r'\\d{1,3}',exampleString)\n",
    "names = re.findall(r'[A-Z][a-z]*',exampleString)\n",
    "\n",
    "print(ages)\n",
    "print(names)\n"
   ]
  },
  {
   "cell_type": "markdown",
   "metadata": {},
   "source": [
    "https://www.w3resource.com/python-exercises/re/"
   ]
  },
  {
   "cell_type": "code",
   "execution_count": null,
   "metadata": {},
   "outputs": [],
   "source": [
    "<h2>What is Regular Expression and how is it used?</h2>\n",
    "\n",
    "<b>Regular expression is a sequence of character(s) mainly used to find and replace patterns in a string or file.</b><br>\n",
    "<b>Regular expressions, also called regex, is a syntax or rather a language to search, extract and manipulate specific string patterns from a larger text. It is widely used in projects that involve text validation, NLP and text mining</b>\n",
    "\n",
    "<ul><li>Regular Expressions are common in many programming languages like Java,R, Python etc..</li>\n",
    "<li>In Python we can use the regular expressions using a module called <b>re</b></li>\n",
    "<li>We should import the re module , before starting with regular expressions(import re)</li>\n",
    "    <li>Regular expressions use two types of characters: Meta characters, Literals</li>\n",
    "    <li>Meta characters : As the name suggests, these characters have a special meaning, similar to * in wild card.</li>\n",
    "    <li>Literals (like a,b,1,2…)</li>\n",
    "    <li> Example: match = re.search(pat, str)</li>\n",
    "</ul>\n",
    "\n",
    "#Example\n",
    "import re\n",
    "pattern = '^v....o$' # RegEx pattern\n",
    "test_string = 'verzeo'\n",
    "result = re.match(pattern, test_string) #re.match() function to search pattern within the test_string\n",
    "print(result) #The method returns a match object if the search is successful. If not, it returns None\n",
    "if result:\n",
    "  print(\"Search successful.\")\n",
    "else:\n",
    "  print(\"Search unsuccessful.\")\n",
    "\n",
    "<b>Explanation:</b><br>\n",
    "\n",
    "The above code defines a RegEx pattern. The pattern is: any six letter word starting with v and ending with o.\n",
    "\n",
    "A pattern defined using RegEx can be used to match against a string.\n",
    "\n",
    "\n",
    "Ex: verkeo, vaboeo, vskoeo etc..\n",
    "\n",
    "re.match() will return the match object it the pattern is found in the string, else none\n",
    "\n",
    "<b>Advantages of regular expression</b>\n",
    "\n",
    "Search a string (search and match)\n",
    "\n",
    "Finding a string (findall)\n",
    "\n",
    "Break string into a sub strings (split)\n",
    "\n",
    "Replace part of a string (sub)\n",
    "\n",
    "<h2>How to write a regular expression</h2>\n",
    "\n",
    "<b>MetaCharacters</b><br>\n",
    "\n",
    "Metacharacters are characters that are interpreted in a special way by a RegEx engine. \n",
    "\n",
    "Here's a list of metacharacters:    [] . ^ $ * + ? {} () \\ |\n",
    "\n",
    "<h3>[] - Square brackets</h3>\n",
    "\n",
    "#Square brackets specifies a set of characters you wish to match.\n",
    "#Here, below [har] will match if the string you are trying to match contains any of the h/a/r.\n",
    "#You can also specify a range of characters using - inside square brackets.\n",
    "#Example : \n",
    "#[a-e] is the same as [abcde].\n",
    "#[1-4] is the same as [1234].\n",
    "#[0-39] is the same as [01239].\n",
    "\n",
    "#You can complement (invert) the character set by using caret ^ symbol at the start of a square-bracket.\n",
    "#Exaple : [^abc] means any character except a or b or c.\n",
    "#         [^0-9] means any non-digit character.\n",
    "\n",
    "![image.png](attachment:image.png)\n",
    "\n",
    "<b>Function compile()</b><br>\n",
    "\n",
    "Regular expressions are compiled into pattern objects, which have methods for various operations such as searching for pattern matches or performing string substitutions.\n",
    "\n",
    "import re \n",
    "  \n",
    "# compile() creates regular expression character class [a-e], \n",
    "# which is equivalent to [abcde]. \n",
    "# class [abcde] will match with string with 'a', 'b', 'c', 'd', 'e'. \n",
    "p = re.compile('[a-e]') \n",
    "  \n",
    "# findall() searches for the Regular Expression and return a list upon finding \n",
    "print(p.findall(\"hi all!!!, how are you?\")) \n",
    "\n",
    "p = re.compile('[^a-e]')\n",
    "print(re.findall(p,\"hi all!!!, how are you?\")) \n",
    "\n",
    "<h3>. - Period</h3>\n",
    "\n",
    "A period matches any single character (except newline '\\n').\n",
    "\n",
    "![image.png](attachment:image.png)\n",
    "\n",
    "p = re.compile('...') \n",
    "print(p.findall(\"h\"))\n",
    "print(p.findall(\"hi\")) \n",
    "print(p.findall(\"hi all\")) \n",
    "print(re.search(p,\"hi all!!!, how are you?\")) \n",
    "\n",
    "p = re.compile('^..') \n",
    "print(p.findall(\"h\"))\n",
    "print(p.findall(\"hi\")) \n",
    "print(p.findall(\"hi all\")) \n",
    "print(re.search(p,\"hi all!!!, how are you?\")) \n",
    "\n",
    "<h3>^ - Caret</h3>\n",
    "\n",
    "The caret symbol ^ is used to check if a string starts with a certain character.\n",
    "\n",
    "![image.png](attachment:image.png)\n",
    "\n",
    "#Example\n",
    "p = re.compile('^h') \n",
    "print(p.findall(\"yahh\")) \n",
    "print(p.findall(\"hi\")) \n",
    "print(p.findall(\"all\")) \n",
    "print(re.search(p,\"hi all!!!, how are you?\")) \n",
    "\n",
    "<h3>$ - Dollar</h3>\n",
    "\n",
    "The dollar symbol $ is used to check if a string ends with a certain character.\n",
    "    \n",
    "![image.png](attachment:image.png)\n",
    "\n",
    "#Example\n",
    "p = re.compile('sh$')\n",
    "print(p.findall(\"harsh\"))\n",
    "print(p.findall(\"hi\"))\n",
    "print(p.findall(\"smash\"))\n",
    "print(re.search(p,\"hi all!!!, how are you?\"))\n",
    "\n",
    "<h3>* - Star</h3>\n",
    "\n",
    "The star symbol * matches zero or more occurrences of the pattern left to it.\n",
    "\n",
    "![image.png](attachment:image.png)\n",
    "\n",
    "#Example\n",
    "p = re.compile('ma*n')\n",
    "print(p.findall(\"mn\"))\n",
    "print(p.findall(\"man\"))\n",
    "print(p.findall(\"maan\"))\n",
    "print(p.findall(\"main\"))\n",
    "print(p.findall(\"woman\"))\n",
    "print(re.search(p,\"hi all!!!, how are you?\"))\n",
    "\n",
    "#Example\n",
    "p = re.compile('ha*r')\n",
    "print(p.findall(\"hasha\"))\n",
    "print(p.findall(\"arsh\"))\n",
    "print(p.findall(\"hahr\"))\n",
    "print(p.findall(\"sha\"))\n",
    "print(p.findall(\"haarsha\"))\n",
    "print(re.search(p,\"hi all!!!, how are you?\"))\n",
    "\n",
    "<h3>+ - Plus</h3>\n",
    "\n",
    "The plus symbol + matches one or more occurrences of the pattern left to it.\n",
    "\n",
    "![image.png](attachment:image.png)\n",
    "\n",
    "#Example\n",
    "p = re.compile('ma+n')\n",
    "print(p.findall(\"mn\"))\n",
    "print(p.findall(\"man\"))\n",
    "print(p.findall(\"maan\"))\n",
    "print(p.findall(\"main\"))\n",
    "print(p.findall(\"woman\"))\n",
    "print(re.search(p,\"hi all!!!, how are you?\"))\n",
    "\n",
    "#Example\n",
    "p = re.compile('ha+r')\n",
    "print(p.findall(\"hasha\"))\n",
    "print(p.findall(\"arsh\"))\n",
    "print(p.findall(\"hahr\"))\n",
    "print(p.findall(\"sha\"))\n",
    "print(p.findall(\"harsha\"))\n",
    "print(re.search(p,\"hi all!!!, how are you?\"))\n",
    "\n",
    "<h3>? - Question Mark</h3>\n",
    "\n",
    "The question mark symbol ? matches zero or one occurrence of the pattern left to it.\n",
    "\n",
    "![image.png](attachment:image.png)\n",
    "\n",
    "#Example\n",
    "p = re.compile('ma?n')\n",
    "print(p.findall(\"mn\"))\n",
    "print(p.findall(\"man\"))\n",
    "print(p.findall(\"maan\"))\n",
    "print(p.findall(\"main\"))\n",
    "print(p.findall(\"woman\"))\n",
    "print(re.search(p,\"hi all!!!, how are you?\"))\n",
    "\n",
    "<h3>{} - Braces</h3>\n",
    "\n",
    "Consider this code: {n,m}. This means at least n, and at most m repetitions of the pattern left to it.\n",
    "\n",
    "![image.png](attachment:image.png)\n",
    "\n",
    "Let's try one more example. This RegEx [0-9]{2, 4} matches at least 2 digits but not more than 4 digits\n",
    "\n",
    "![image.png](attachment:image.png)\n",
    "\n",
    "#Example\n",
    "p = re.compile('[^0-5]{2,4}')\n",
    "print(p.findall(\"ab123csde\"))\n",
    "print(p.findall(\"12 and 345673\"))\n",
    "print(p.findall(\"1 and 2\"))\n",
    "print(p.findall(\"15 abc 16\"))\n",
    "\n",
    "<h3>| - Alternation</h3>\n",
    "\n",
    "Vertical bar | is used for alternation (or operator).\n",
    "\n",
    "Here, a|b match any string that contains either a or b.\n",
    "\n",
    "![image.png](attachment:image.png)\n",
    "\n",
    "#Example\n",
    "p = re.compile('a|h')\n",
    "print(p.findall(\"ab123csde\"))\n",
    "print(p.findall(\"harsha\"))\n",
    "print(p.findall(\"vinod\"))\n",
    "print(p.findall(\"nnnnnnn\"))\n",
    "\n",
    "<h3>() - Group</h3>\n",
    "\n",
    "Parentheses () is used to group sub-patterns. For example, (a|b|c)xz match any string that matches either a or b or c followed by xz.\n",
    "\n",
    "![image.png](attachment:image.png)\n",
    "\n",
    "#Example\n",
    "p = re.compile('(a|b|[^e-z])xz')\n",
    "print(p.findall(\"ab xz\"))\n",
    "print(p.findall(\"abxz\"))\n",
    "print(p.findall(\"axz cabxz\"))\n",
    "print(p.findall(\"edxz\"))\n",
    "\n",
    "<h3>\\ - Backslash</h3>\n",
    "\n",
    "Backlash \\ is used to escape various characters including all metacharacters. For example,\n",
    "\n",
    "<p>\\\\$a match if a string contains \\$ followed by a. Here, $ is not interpreted by a RegEx engine in a special way.</p>\n",
    "\n",
    "If you are unsure if a character has special meaning or not, you can put \\ in front of it. This makes sure the character is not treated in a special way.\n",
    "\n",
    "#Example\n",
    "p = re.compile('\\$Python')\n",
    "print(p.findall(\"IlikeZPython\"))\n",
    "print(p.findall(\"I like Python\"))\n",
    "\n",
    "<h2>Special Sequences</h2>\n",
    "\n",
    "Special sequences make commonly used patterns easier to write. Here's a list of special sequences:\n",
    "\n",
    "\\A - Matches if the specified characters are at the start of a string.\n",
    "\n",
    "![image.png](attachment:image.png)\n",
    "\n",
    "\\b - Matches if the specified characters are at the beginning or end of a word.\n",
    "\n",
    "![image.png](attachment:image.png)\n",
    "\n",
    "\n",
    "\\B - Opposite of \\b. Matches if the specified characters are not at the beginning or end of a word.\n",
    "\n",
    "![image.png](attachment:image.png)\n",
    "\n",
    "\\d - Matches any decimal digit. Equivalent to [0-9]\n",
    "\n",
    "![image.png](attachment:image.png)\n",
    "\n",
    "\\D - Matches any non-decimal digit. Equivalent to [^0-9]\n",
    "\n",
    "![image.png](attachment:image.png)\n",
    "\n",
    "\\s - Matches where a string contains any whitespace character.\n",
    "\n",
    "![image.png](attachment:image.png)\n",
    "\n",
    "\\S - Matches where a string contains any non-whitespace character. Equivalent to [^ \\t\\n\\r\\f\\v].\n",
    "\n",
    "![image.png](attachment:image.png)\n",
    "\n",
    "\\w - Matches any alphanumeric character (digits and alphabets). Equivalent to [a-zA-Z0-9_]. By the way, underscore _ is also considered an alphanumeric character.\n",
    "\n",
    "![image.png](attachment:image.png)\n",
    "\n",
    "\n",
    "\\W - Matches any non-alphanumeric character. Equivalent to [^a-zA-Z0-9_]\n",
    "\n",
    "![image.png](attachment:image.png)\n",
    "\n",
    "<h2>re.findall()</h2>\n",
    "\n",
    "The re.findall() method returns a list of strings containing all matches.\n",
    "\n",
    "# Program to extract numbers from a string\n",
    "import re\n",
    "string = 'hello 12 hi 89. Howdy 34'\n",
    "pattern = '\\d+'\n",
    "result = re.findall(pattern, string) \n",
    "print(result)\n",
    "\n",
    "# Program to extract numbers from a string\n",
    "import re\n",
    "string = 'hello 12 hi 89. Howdy 34 a45 b65'\n",
    "pattern = '\\d+'\n",
    "result = re.findall(pattern, string) \n",
    "print(result)\n",
    "\n",
    "<h2>re.split()</h2>\n",
    "\n",
    "The re.split method splits the string where there is a match and returns a list of strings where the splits have occurred.\n",
    "\n",
    "import re\n",
    "string = 'Twelve:12 Eighty nine:89.'\n",
    "pattern = '\\d+'\n",
    "result = re.split(pattern, string) \n",
    "print(result)\n",
    "\n",
    "<h2>re.sub()</h2>\n",
    "The method returns a string where matched occurrences are replaced with the content of replace variable.\n",
    "\n",
    "Syntax: re.sub(pattern, replace, string)\n",
    "\n",
    "# Program to remove all whitespaces\n",
    "import re\n",
    "# multiline string\n",
    "string = 'abc 12\\\n",
    "de 23 \\n f45 6'\n",
    "# matches all whitespace characters\n",
    "pattern = '\\d+'\n",
    "# empty string\n",
    "replace = ''\n",
    "new_string = re.sub(pattern, replace, string) \n",
    "print(new_string) #If the pattern is no found, re.sub() returns the original string.\n",
    "\n",
    "<h2>re.subn()</h2>\n",
    "\n",
    "The re.subn() is similar to re.sub() expect it returns a tuple of 2 items containing the new string and the number of substitutions made.\n",
    "\n",
    "# Program to remove all whitespaces\n",
    "import re\n",
    "# multiline string\n",
    "string = 'abc 12\\\n",
    "de 23 \\n f45 6'\n",
    "# matches all whitespace characters\n",
    "pattern = '\\s+'\n",
    "# empty string\n",
    "replace = ''\n",
    "new_string = re.subn(pattern, replace, string) \n",
    "print(new_string)\n",
    "\n",
    "<h2>re.search()</h2>\n",
    "\n",
    "The re.search() method takes two arguments: a pattern and a string. The method looks for the first location where the RegEx pattern produces a match with the string.\n",
    "\n",
    "If the search is successful, re.search() returns a match object; if not, it returns None\n",
    "\n",
    "Syntax:match = re.search(pattern, str)\n",
    "\n",
    "import re\n",
    "string = \"Python is fun\"\n",
    "# check if 'Python' is at the beginning\n",
    "match = re.search('\\APython', string)\n",
    "if match:\n",
    "  print(\"pattern found inside the string\")\n",
    "else:\n",
    "  print(\"pattern not found\")  \n",
    "\n",
    "<h2>match.group()</h2>\n",
    "\n",
    "The group() method returns the part of the string where there is a match.\n",
    "\n",
    "import re\n",
    "string = '39801 356, 2102 1111'\n",
    "# Three digit number followed by space followed by two digit number\n",
    "pattern = '(\\d{3}) (\\d{2})'\n",
    "# match variable contains a Match object.\n",
    "match = re.search(pattern, string) \n",
    "if match:\n",
    "  print(match.group())\n",
    "else:\n",
    "  print(\"pattern not found\")\n",
    "\n",
    "Here, match variable contains a match object.\n",
    "\n",
    "Our pattern (\\d{3}) (\\d{2}) has two subgroups (\\d{3}) and (\\d{2}). You can get the part of the string of these parenthesized subgroups.\n",
    "\n",
    "print(match.group(1))\n",
    "print(match.group(2))\n",
    "\n",
    "\n",
    "<h2>Using r prefix before RegEx</h2>\n",
    "\n",
    "When r or R prefix is used before a regular expression, it means raw string. For example, '\\n' is a new line whereas r'\\n' means two characters: a backslash \\ followed by n.\n",
    "\n",
    "Backlash \\ is used to escape various characters including all metacharacters. However, using r prefix makes \\ treat as a normal character.\n",
    "\n",
    "import re\n",
    "string = '\\n and \\r are escape sequences.'\n",
    "result = re.findall(R'[\\n\\r]', string) \n",
    "print(result)\n",
    "\n",
    "<h2>Some Examples of Regular Expressions</h2>\n",
    "\n",
    "#Return the first word of a given string\n",
    "result=re.findall(r'\\w+ \\n','Hello Everyone , How are you?')\n",
    "print(result)\n",
    "\n",
    "#Return the first two character of each word\n",
    "result=re.findall(r'\\w\\w','AV is largest Analytics community of India')\n",
    "print(result)\n",
    "\n",
    "#Return date from given string\n",
    "result=re.findall(r'\\d{2}-\\d{2}-\\d{4}','Amit 34-3456 12-05-2007, XYZ 56-4532 11-11-2011, ABC 67-8945 12-01-2009')\n",
    "print(result)\n",
    "\n",
    "#Validate a phone number (phone number must be of 10 digits and starts with 8 or 9) \n",
    "import re\n",
    "li=['8999999999','999999-999','99999x9999']\n",
    "for val in li:\n",
    " if re.match(r'[8-9]{1}[0-9]{9}',val) and len(val) == 10:\n",
    "     print('yes')\n",
    " else:\n",
    "     print('no')\n",
    "\n",
    "So, we have the string we intend to search. We see that we have ages that are integers 2-3 numbers in length. We could also expect digits that are just 1, under 10 years old. We probably wont be seeing any digits that are 4 in length, unless we're talking about biblical times or something\n",
    "\n",
    "import re\n",
    "\n",
    "exampleString = '''\n",
    "Jessica is 15 years old, and Daniel is 27 years old.\n",
    "Edward is 97 years old, and his grandfather, Oscar, is 102. \n",
    "'''\n",
    "ages = re.findall(r'\\d{1,3}',exampleString)\n",
    "names = re.findall(r'[A-Z][a-z]*',exampleString)\n",
    "\n",
    "print(ages)\n",
    "print(names)\n",
    "\n",
    "\n",
    "https://www.w3resource.com/python-exercises/re/"
   ]
  }
 ],
 "metadata": {
  "kernelspec": {
   "display_name": "Python 3",
   "language": "python",
   "name": "python3"
  },
  "language_info": {
   "codemirror_mode": {
    "name": "ipython",
    "version": 3
   },
   "file_extension": ".py",
   "mimetype": "text/x-python",
   "name": "python",
   "nbconvert_exporter": "python",
   "pygments_lexer": "ipython3",
   "version": "3.7.3"
  }
 },
 "nbformat": 4,
 "nbformat_minor": 2
}
