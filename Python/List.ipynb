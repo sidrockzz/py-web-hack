{
 "cells": [
  {
   "cell_type": "code",
   "execution_count": 10,
   "metadata": {},
   "outputs": [
    {
     "name": "stdout",
     "output_type": "stream",
     "text": [
      "Chemistry\n",
      "5\n",
      "['Chemistry', 'Physics', 'Maths', 1, 2, 3, 4, 5]\n"
     ]
    }
   ],
   "source": [
    "list1=['Chemistry','Physics','Maths']\n",
    "list2=[1,2,3,4,5]\n",
    "list3=[2.34,5.78,5.90]\n",
    "\n",
    "print (list1[0])\n",
    "print (len(list2))\n",
    "a =list1+list2\n",
    "print (a)"
   ]
  },
  {
   "cell_type": "code",
   "execution_count": null,
   "metadata": {},
   "outputs": [],
   "source": []
  }
 ],
 "metadata": {
  "kernelspec": {
   "display_name": "Python 3",
   "language": "python",
   "name": "python3"
  },
  "language_info": {
   "codemirror_mode": {
    "name": "ipython",
    "version": 3
   },
   "file_extension": ".py",
   "mimetype": "text/x-python",
   "name": "python",
   "nbconvert_exporter": "python",
   "pygments_lexer": "ipython3",
   "version": "3.7.3"
  }
 },
 "nbformat": 4,
 "nbformat_minor": 2
}
